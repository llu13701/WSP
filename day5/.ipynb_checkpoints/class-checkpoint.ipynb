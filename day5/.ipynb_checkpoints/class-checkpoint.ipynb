{
 "cells": [
  {
   "cell_type": "markdown",
   "id": "0dd3ca5c-310e-4f7f-b583-c7a4949903f4",
   "metadata": {},
   "source": [
    "## Classes"
   ]
  },
  {
   "cell_type": "code",
   "execution_count": 2,
   "id": "2131c35a-6fd5-4f34-9470-c4c8a8881446",
   "metadata": {},
   "outputs": [],
   "source": [
    "number = 69\n"
   ]
  },
  {
   "cell_type": "code",
   "execution_count": 4,
   "id": "530906e0-342c-420b-bb61-2d0c6d539772",
   "metadata": {},
   "outputs": [
    {
     "data": {
      "text/plain": [
       "71"
      ]
     },
     "execution_count": 4,
     "metadata": {},
     "output_type": "execute_result"
    }
   ],
   "source": [
    "number + 2"
   ]
  },
  {
   "cell_type": "code",
   "execution_count": 5,
   "id": "1d22fda0-697e-4d9f-b6fd-cfb0188c71a4",
   "metadata": {},
   "outputs": [
    {
     "data": {
      "text/plain": [
       "int"
      ]
     },
     "execution_count": 5,
     "metadata": {},
     "output_type": "execute_result"
    }
   ],
   "source": [
    "type(number)"
   ]
  },
  {
   "cell_type": "code",
   "execution_count": 15,
   "id": "43a537f8-e490-42e1-80d4-011f0c6047e9",
   "metadata": {},
   "outputs": [],
   "source": [
    "def double(number):\n",
    "    return number * 2\n",
    "\n",
    "class mynumberclass():\n",
    "    def __init__(self, number: int):  \n",
    "        # dunder: https://mathspp.com/blog/pydonts/dunder-methods#:~:text=In%20Python%2C%20dunder%20methods%20are,__%20or%20__add__%20.\n",
    "        self.value = number\n",
    "\n",
    "    def double(self):\n",
    "        self.value *= 2\n",
    "        return self.value\n",
    "        \n",
    "    "
   ]
  },
  {
   "cell_type": "code",
   "execution_count": 8,
   "id": "ebf3bd00-9f19-4dc1-8ef3-5b59799c6343",
   "metadata": {},
   "outputs": [
    {
     "data": {
      "text/plain": [
       "6"
      ]
     },
     "execution_count": 8,
     "metadata": {},
     "output_type": "execute_result"
    }
   ],
   "source": [
    "double(3)"
   ]
  },
  {
   "cell_type": "code",
   "execution_count": 105,
   "id": "dcf0d816-24b7-4c6e-971a-1988e5115c0c",
   "metadata": {},
   "outputs": [
    {
     "data": {
      "text/plain": [
       "3"
      ]
     },
     "execution_count": 105,
     "metadata": {},
     "output_type": "execute_result"
    }
   ],
   "source": [
    "n = mynumberclass(3) #instantiate python class\n",
    "n.value"
   ]
  },
  {
   "cell_type": "code",
   "execution_count": 93,
   "id": "2491d1f9-e445-4c2c-90e6-0f5e5efb65a4",
   "metadata": {},
   "outputs": [
    {
     "data": {
      "text/plain": [
       "192"
      ]
     },
     "execution_count": 93,
     "metadata": {},
     "output_type": "execute_result"
    }
   ],
   "source": [
    "n.double() #The value carry through the class"
   ]
  },
  {
   "cell_type": "code",
   "execution_count": 106,
   "id": "4fe16553-0898-4a50-90ee-1fdef0831b67",
   "metadata": {},
   "outputs": [],
   "source": [
    "# you can pass a class vairables\n",
    "class MyClass:\n",
    "    class_varaible=\"I am a class Varaible\"\n"
   ]
  },
  {
   "cell_type": "code",
   "execution_count": 110,
   "id": "c898b0b4-c2b2-44f1-bd68-8a95227994ea",
   "metadata": {},
   "outputs": [
    {
     "name": "stdout",
     "output_type": "stream",
     "text": [
      "I am a class Varaible\n"
     ]
    }
   ],
   "source": [
    "x=MyClass()\n",
    "print (x.class_varaible)"
   ]
  },
  {
   "cell_type": "code",
   "execution_count": 94,
   "id": "e191c655-e8d2-4efd-b9c4-b50e049721bd",
   "metadata": {},
   "outputs": [],
   "source": [
    "import numpy as np\n"
   ]
  },
  {
   "cell_type": "code",
   "execution_count": 95,
   "id": "02a7fa04-1a9c-4b66-b687-75176cc42353",
   "metadata": {},
   "outputs": [
    {
     "data": {
      "text/plain": [
       "['__add__',\n",
       " '__class__',\n",
       " '__contains__',\n",
       " '__delattr__',\n",
       " '__dir__',\n",
       " '__doc__',\n",
       " '__eq__',\n",
       " '__format__',\n",
       " '__ge__',\n",
       " '__getattribute__',\n",
       " '__getitem__',\n",
       " '__getnewargs__',\n",
       " '__gt__',\n",
       " '__hash__',\n",
       " '__init__',\n",
       " '__init_subclass__',\n",
       " '__iter__',\n",
       " '__le__',\n",
       " '__len__',\n",
       " '__lt__',\n",
       " '__mod__',\n",
       " '__mul__',\n",
       " '__ne__',\n",
       " '__new__',\n",
       " '__reduce__',\n",
       " '__reduce_ex__',\n",
       " '__repr__',\n",
       " '__rmod__',\n",
       " '__rmul__',\n",
       " '__setattr__',\n",
       " '__sizeof__',\n",
       " '__str__',\n",
       " '__subclasshook__',\n",
       " 'capitalize',\n",
       " 'casefold',\n",
       " 'center',\n",
       " 'count',\n",
       " 'encode',\n",
       " 'endswith',\n",
       " 'expandtabs',\n",
       " 'find',\n",
       " 'format',\n",
       " 'format_map',\n",
       " 'index',\n",
       " 'isalnum',\n",
       " 'isalpha',\n",
       " 'isascii',\n",
       " 'isdecimal',\n",
       " 'isdigit',\n",
       " 'isidentifier',\n",
       " 'islower',\n",
       " 'isnumeric',\n",
       " 'isprintable',\n",
       " 'isspace',\n",
       " 'istitle',\n",
       " 'isupper',\n",
       " 'join',\n",
       " 'ljust',\n",
       " 'lower',\n",
       " 'lstrip',\n",
       " 'maketrans',\n",
       " 'partition',\n",
       " 'replace',\n",
       " 'rfind',\n",
       " 'rindex',\n",
       " 'rjust',\n",
       " 'rpartition',\n",
       " 'rsplit',\n",
       " 'rstrip',\n",
       " 'split',\n",
       " 'splitlines',\n",
       " 'startswith',\n",
       " 'strip',\n",
       " 'swapcase',\n",
       " 'title',\n",
       " 'translate',\n",
       " 'upper',\n",
       " 'zfill']"
      ]
     },
     "execution_count": 95,
     "metadata": {},
     "output_type": "execute_result"
    }
   ],
   "source": [
    "dir('im a string')"
   ]
  },
  {
   "cell_type": "code",
   "execution_count": 96,
   "id": "29382fbd-3907-4788-891d-c4cef203143a",
   "metadata": {},
   "outputs": [],
   "source": [
    "def fibonacci(sequence_length):\n",
    "    \"Return the Fibonacci sequence of length *sequence_length*\"\n",
    "    sequence = [0,1]\n",
    "    if sequence_length < 1:\n",
    "        print(\"Fibonacci sequence only defined for length 1 or greater\")\n",
    "        return\n",
    "    if 0 < sequence_length < 3:\n",
    "        return sequence[:sequence_length]\n",
    "    for i in range(2,sequence_length): \n",
    "        sequence.append(sequence[i-1]+sequence[i-2])\n",
    "    return sequence"
   ]
  },
  {
   "cell_type": "code",
   "execution_count": 100,
   "id": "560eb4d3-4cab-467a-a3d1-905565e2eae7",
   "metadata": {},
   "outputs": [],
   "source": [
    "class FibSequence():\n",
    "    def __init__(self, sequence_length): \n",
    "        if sequence_length == None:\n",
    "            self.sequence = [0, 1]\n",
    "        else:\n",
    "            self.sequence = [0,1]\n",
    "            if sequence_length < 1:\n",
    "                self.sequence = [0, 1]\n",
    "            if 0 < sequence_length < 3:\n",
    "                self.sequence = self.sequence[:sequence_length]\n",
    "            for i in range(2,sequence_length): \n",
    "                self.sequence.append(self.sequence[i-1]+self.sequence[i-2])\n",
    "                      \n",
    "\n",
    "    def next(self) -> int:\n",
    "        next_value = sum(self.sequence[-2:])\n",
    "        self.sequence.append(next_value)\n",
    "        return next_value"
   ]
  },
  {
   "cell_type": "code",
   "execution_count": 101,
   "id": "ae845528-331a-4ffc-ba30-8b6f9a2c671a",
   "metadata": {},
   "outputs": [],
   "source": [
    "my_sequence=FibSequence(10)"
   ]
  },
  {
   "cell_type": "code",
   "execution_count": 102,
   "id": "6ae883ff-3145-4b3a-9820-a4f50ad0c5f1",
   "metadata": {},
   "outputs": [
    {
     "data": {
      "text/plain": [
       "[0, 1, 1, 2, 3, 5, 8, 13, 21, 34]"
      ]
     },
     "execution_count": 102,
     "metadata": {},
     "output_type": "execute_result"
    }
   ],
   "source": [
    "my_sequence.sequence"
   ]
  },
  {
   "cell_type": "code",
   "execution_count": 103,
   "id": "7c0970b8-b6e8-40db-a7f3-913de993fae6",
   "metadata": {},
   "outputs": [
    {
     "data": {
      "text/plain": [
       "55"
      ]
     },
     "execution_count": 103,
     "metadata": {},
     "output_type": "execute_result"
    }
   ],
   "source": [
    "my_sequence.next()"
   ]
  },
  {
   "cell_type": "code",
   "execution_count": 104,
   "id": "f3e8f682-2a0f-4843-9692-801238ef8b44",
   "metadata": {},
   "outputs": [
    {
     "data": {
      "text/plain": [
       "[0, 1, 1, 2, 3, 5, 8, 13, 21, 34, 55]"
      ]
     },
     "execution_count": 104,
     "metadata": {},
     "output_type": "execute_result"
    }
   ],
   "source": [
    "my_sequence.sequence"
   ]
  },
  {
   "cell_type": "code",
   "execution_count": 81,
   "id": "bbf864f0-1cd3-4b3e-ad4a-41066b26b8d5",
   "metadata": {},
   "outputs": [],
   "source": [
    "class FibSequence():\n",
    "    def __init__(self, initial_sequence=[0,1]):  # do not initiate the class with a list, which\n",
    "        self.sequence = initial_sequence\n",
    "\n",
    "    def next(self) -> int:\n",
    "        next_value = sum(self.sequence[-2:])\n",
    "        self.sequence.append(next_value)\n",
    "        return next_value\n"
   ]
  },
  {
   "cell_type": "code",
   "execution_count": 82,
   "id": "8072698f-6d4d-4c51-98be-831230f1d4b2",
   "metadata": {},
   "outputs": [],
   "source": [
    "my_sequence=FibSequence()"
   ]
  },
  {
   "cell_type": "code",
   "execution_count": 88,
   "id": "0b6d4d51-19de-4843-9e4e-a4c68fb2a0f4",
   "metadata": {},
   "outputs": [
    {
     "data": {
      "text/plain": [
       "3"
      ]
     },
     "execution_count": 88,
     "metadata": {},
     "output_type": "execute_result"
    }
   ],
   "source": [
    "my_sequence.next()"
   ]
  },
  {
   "cell_type": "code",
   "execution_count": 89,
   "id": "ed730b2d-26b0-478a-9c7a-e69d681f2237",
   "metadata": {},
   "outputs": [
    {
     "data": {
      "text/plain": [
       "[0, 1, 1, 2, 3]"
      ]
     },
     "execution_count": 89,
     "metadata": {},
     "output_type": "execute_result"
    }
   ],
   "source": [
    "my_sequence.sequence"
   ]
  },
  {
   "cell_type": "code",
   "execution_count": 90,
   "id": "23673988-65c2-4b6e-834a-a197c41c20ae",
   "metadata": {},
   "outputs": [],
   "source": [
    "my_sequence2=FibSequence()"
   ]
  },
  {
   "cell_type": "code",
   "execution_count": 92,
   "id": "3291d7cc-0f02-4129-ad6f-4dcc115cee78",
   "metadata": {},
   "outputs": [
    {
     "data": {
      "text/plain": [
       "[0, 1, 1, 2, 3]"
      ]
     },
     "execution_count": 92,
     "metadata": {},
     "output_type": "execute_result"
    }
   ],
   "source": [
    "my_sequence2.sequence  \n",
    "#because list is shared across and it is a mutable object, dangerous to use all of it in the same mutable object"
   ]
  },
  {
   "cell_type": "markdown",
   "id": "ba75f0ee-fd6f-400b-8274-de8ea8977431",
   "metadata": {},
   "source": [
    "## Inheritance"
   ]
  },
  {
   "cell_type": "code",
   "execution_count": null,
   "id": "654b85ee-7699-4a2d-bc4d-4e112e346f79",
   "metadata": {},
   "outputs": [],
   "source": [
    "class mynumberclass():\n",
    "    def __init__(self, number: int):  \n",
    "        # dunder: https://mathspp.com/blog/pydonts/dunder-methods#:~:text=In%20Python%2C%20dunder%20methods%20are,__%20or%20__add__%20.\n",
    "        self.value = number\n",
    "\n",
    "    def double(self):\n",
    "        self.value *= 2\n",
    "        return self.value\n",
    "\n",
    "\n",
    "    "
   ]
  },
  {
   "cell_type": "code",
   "execution_count": 114,
   "id": "afbd49a3-2c18-4a4b-955f-3a15ef0a170a",
   "metadata": {},
   "outputs": [
    {
     "data": {
      "text/plain": [
       "8"
      ]
     },
     "execution_count": 114,
     "metadata": {},
     "output_type": "execute_result"
    }
   ],
   "source": [
    "number=mynumberclass(4)\n",
    "number.double()"
   ]
  },
  {
   "cell_type": "code",
   "execution_count": 115,
   "id": "0cae851d-dcd9-4555-9e8f-8516efb9e577",
   "metadata": {},
   "outputs": [
    {
     "ename": "TypeError",
     "evalue": "unsupported operand type(s) for +: 'mynumberclass' and 'int'",
     "output_type": "error",
     "traceback": [
      "\u001b[0;31m---------------------------------------------------------------------------\u001b[0m",
      "\u001b[0;31mTypeError\u001b[0m                                 Traceback (most recent call last)",
      "Cell \u001b[0;32mIn[115], line 1\u001b[0m\n\u001b[0;32m----> 1\u001b[0m \u001b[43mnumber\u001b[49m\u001b[38;5;241;43m+\u001b[39;49m\u001b[38;5;241;43m5\u001b[39;49m\n",
      "\u001b[0;31mTypeError\u001b[0m: unsupported operand type(s) for +: 'mynumberclass' and 'int'"
     ]
    }
   ],
   "source": [
    "number+5"
   ]
  },
  {
   "cell_type": "code",
   "execution_count": 124,
   "id": "64658f12-452d-423c-8440-8bdcc757bff0",
   "metadata": {},
   "outputs": [],
   "source": [
    "class mynumberclass(int): # taking from the parents class, no need for initi\n",
    "    def double(self): \n",
    "        return self*2  #self is the same as int * 2"
   ]
  },
  {
   "cell_type": "code",
   "execution_count": 122,
   "id": "7eb4207b-9bba-4534-8dc7-92562314ddeb",
   "metadata": {},
   "outputs": [],
   "source": [
    "number2=mynumberclass(4)\n"
   ]
  },
  {
   "cell_type": "code",
   "execution_count": 123,
   "id": "1da7263d-c50b-4e68-90fc-dde788b6fdc1",
   "metadata": {},
   "outputs": [
    {
     "data": {
      "text/plain": [
       "8"
      ]
     },
     "execution_count": 123,
     "metadata": {},
     "output_type": "execute_result"
    }
   ],
   "source": [
    "number2.double()"
   ]
  },
  {
   "cell_type": "code",
   "execution_count": 125,
   "id": "a3ca37c7-80e3-47fb-b30b-d1ca2b00eb1c",
   "metadata": {},
   "outputs": [
    {
     "data": {
      "text/plain": [
       "9"
      ]
     },
     "execution_count": 125,
     "metadata": {},
     "output_type": "execute_result"
    }
   ],
   "source": [
    "number2 + 5 #because we are taking the int value"
   ]
  },
  {
   "cell_type": "markdown",
   "id": "164fa3f3-65e3-4f2e-8950-1d7d56cfddd6",
   "metadata": {},
   "source": [
    "## Polymorphism"
   ]
  },
  {
   "cell_type": "code",
   "execution_count": 127,
   "id": "eaeb3b4c-6095-4b2f-b58e-790c9f4f6ee0",
   "metadata": {},
   "outputs": [
    {
     "data": {
      "text/plain": [
       "['__abs__',\n",
       " '__add__',\n",
       " '__and__',\n",
       " '__bool__',\n",
       " '__ceil__',\n",
       " '__class__',\n",
       " '__delattr__',\n",
       " '__dir__',\n",
       " '__divmod__',\n",
       " '__doc__',\n",
       " '__eq__',\n",
       " '__float__',\n",
       " '__floor__',\n",
       " '__floordiv__',\n",
       " '__format__',\n",
       " '__ge__',\n",
       " '__getattribute__',\n",
       " '__getnewargs__',\n",
       " '__gt__',\n",
       " '__hash__',\n",
       " '__index__',\n",
       " '__init__',\n",
       " '__init_subclass__',\n",
       " '__int__',\n",
       " '__invert__',\n",
       " '__le__',\n",
       " '__lshift__',\n",
       " '__lt__',\n",
       " '__mod__',\n",
       " '__mul__',\n",
       " '__ne__',\n",
       " '__neg__',\n",
       " '__new__',\n",
       " '__or__',\n",
       " '__pos__',\n",
       " '__pow__',\n",
       " '__radd__',\n",
       " '__rand__',\n",
       " '__rdivmod__',\n",
       " '__reduce__',\n",
       " '__reduce_ex__',\n",
       " '__repr__',\n",
       " '__rfloordiv__',\n",
       " '__rlshift__',\n",
       " '__rmod__',\n",
       " '__rmul__',\n",
       " '__ror__',\n",
       " '__round__',\n",
       " '__rpow__',\n",
       " '__rrshift__',\n",
       " '__rshift__',\n",
       " '__rsub__',\n",
       " '__rtruediv__',\n",
       " '__rxor__',\n",
       " '__setattr__',\n",
       " '__sizeof__',\n",
       " '__str__',\n",
       " '__sub__',\n",
       " '__subclasshook__',\n",
       " '__truediv__',\n",
       " '__trunc__',\n",
       " '__xor__',\n",
       " 'as_integer_ratio',\n",
       " 'bit_length',\n",
       " 'conjugate',\n",
       " 'denominator',\n",
       " 'from_bytes',\n",
       " 'imag',\n",
       " 'numerator',\n",
       " 'real',\n",
       " 'to_bytes']"
      ]
     },
     "execution_count": 127,
     "metadata": {},
     "output_type": "execute_result"
    }
   ],
   "source": [
    "dir(int)"
   ]
  },
  {
   "cell_type": "code",
   "execution_count": 130,
   "id": "f3e5f6dc-0e6d-480c-929b-97bdde89e5c1",
   "metadata": {},
   "outputs": [],
   "source": [
    "class mynumberclass(int): # taking from the parents class, no need for initi\n",
    "    \n",
    "    def double(self): \n",
    "        return self*2  #self is the same as int * 2\n",
    "\n",
    "    def __add__(self, value):\n",
    "        return self * value"
   ]
  },
  {
   "cell_type": "code",
   "execution_count": 129,
   "id": "bf7005a0-d3fd-4ce9-97ca-74a6ffeb91aa",
   "metadata": {},
   "outputs": [],
   "source": [
    "my_number=mynumberclass(4)"
   ]
  },
  {
   "cell_type": "code",
   "execution_count": 131,
   "id": "a0761791-ba59-4880-a0eb-811bee292588",
   "metadata": {},
   "outputs": [
    {
     "data": {
      "text/plain": [
       "12"
      ]
     },
     "execution_count": 131,
     "metadata": {},
     "output_type": "execute_result"
    }
   ],
   "source": [
    "my_number + 3  # now it is *3"
   ]
  },
  {
   "cell_type": "code",
   "execution_count": null,
   "id": "d2ae1a67-5c28-497c-9071-6947f904ed11",
   "metadata": {},
   "outputs": [],
   "source": []
  },
  {
   "cell_type": "code",
   "execution_count": null,
   "id": "1b727c74-7a67-4b30-90c8-4435153ccc92",
   "metadata": {},
   "outputs": [],
   "source": []
  }
 ],
 "metadata": {
  "kernelspec": {
   "display_name": "Python 3 (ipykernel)",
   "language": "python",
   "name": "python3"
  },
  "language_info": {
   "codemirror_mode": {
    "name": "ipython",
    "version": 3
   },
   "file_extension": ".py",
   "mimetype": "text/x-python",
   "name": "python",
   "nbconvert_exporter": "python",
   "pygments_lexer": "ipython3",
   "version": "3.8.9"
  }
 },
 "nbformat": 4,
 "nbformat_minor": 5
}
