{
 "cells": [
  {
   "cell_type": "markdown",
   "id": "ea1e1eb6-49bd-4f51-acc2-44b94461dd58",
   "metadata": {},
   "source": [
    "### Data loading and cleanup\n",
    "Load the date and make sure to:\n",
    "- Convert dates into timestamps (use pd.to_datetime)\n",
    "- Make sure dates are ordered\n",
    "- Set dates as indices\n",
    "- Rename Close* -> Close (expected by backtestingpy)\n",
    "- Split into training and testing data (70-30)"
   ]
  },
  {
   "cell_type": "code",
   "execution_count": null,
   "id": "210351ea-a893-4667-9628-d9dcae3c589b",
   "metadata": {},
   "outputs": [],
   "source": []
  },
  {
   "cell_type": "markdown",
   "id": "e726bdd9-c351-4e12-a5d1-11ebdde71795",
   "metadata": {},
   "source": [
    "### Strategy Creation\n",
    "Create a strategy where:\n",
    "- You have two moving averages (SlowMA and FastMA).\n",
    "- Whenever FastMA crosses over SlowMA you open a long position.\n",
    "- Whenever FastMA crosses under SlowMA you close any open positions."
   ]
  },
  {
   "cell_type": "code",
   "execution_count": null,
   "id": "317c0f14-1435-4f58-af74-f286d44f7671",
   "metadata": {},
   "outputs": [],
   "source": []
  },
  {
   "cell_type": "markdown",
   "id": "d336d6bf-3418-4200-b8e2-1483bcc64bef",
   "metadata": {
    "execution": {
     "iopub.execute_input": "2023-07-30T23:48:48.983692Z",
     "iopub.status.busy": "2023-07-30T23:48:48.983178Z",
     "iopub.status.idle": "2023-07-30T23:48:48.996777Z",
     "shell.execute_reply": "2023-07-30T23:48:48.993436Z",
     "shell.execute_reply.started": "2023-07-30T23:48:48.983627Z"
    }
   },
   "source": [
    "### Strategy Optimization\n",
    "Optimize the strategy you created using the train data. And plot the backtesting results of the optimized strategy."
   ]
  },
  {
   "cell_type": "code",
   "execution_count": null,
   "id": "f8fed4b7-aec2-47be-b8e3-66853deaad1e",
   "metadata": {},
   "outputs": [],
   "source": []
  }
 ],
 "metadata": {
  "kernelspec": {
   "display_name": "Python 3 (ipykernel)",
   "language": "python",
   "name": "python3"
  },
  "language_info": {
   "codemirror_mode": {
    "name": "ipython",
    "version": 3
   },
   "file_extension": ".py",
   "mimetype": "text/x-python",
   "name": "python",
   "nbconvert_exporter": "python",
   "pygments_lexer": "ipython3",
   "version": "3.8.9"
  }
 },
 "nbformat": 4,
 "nbformat_minor": 5
}
