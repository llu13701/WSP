{
 "cells": [
  {
   "cell_type": "code",
   "execution_count": 1,
   "id": "fe60d2f3",
   "metadata": {},
   "outputs": [],
   "source": [
    "import pandas as pd"
   ]
  },
  {
   "cell_type": "code",
   "execution_count": 4,
   "id": "15aed924",
   "metadata": {},
   "outputs": [],
   "source": [
    "df_djia=pd.read_csv(\"DJIA.csv\")"
   ]
  },
  {
   "cell_type": "code",
   "execution_count": 6,
   "id": "b1110ae1",
   "metadata": {
    "scrolled": false
   },
   "outputs": [
    {
     "data": {
      "text/html": [
       "<div>\n",
       "<style scoped>\n",
       "    .dataframe tbody tr th:only-of-type {\n",
       "        vertical-align: middle;\n",
       "    }\n",
       "\n",
       "    .dataframe tbody tr th {\n",
       "        vertical-align: top;\n",
       "    }\n",
       "\n",
       "    .dataframe thead th {\n",
       "        text-align: right;\n",
       "    }\n",
       "</style>\n",
       "<table border=\"1\" class=\"dataframe\">\n",
       "  <thead>\n",
       "    <tr style=\"text-align: right;\">\n",
       "      <th></th>\n",
       "      <th>Date</th>\n",
       "      <th>Open</th>\n",
       "      <th>High</th>\n",
       "      <th>Low</th>\n",
       "      <th>Close*</th>\n",
       "      <th>Adj Close**</th>\n",
       "      <th>Volume</th>\n",
       "    </tr>\n",
       "  </thead>\n",
       "  <tbody>\n",
       "    <tr>\n",
       "      <th>0</th>\n",
       "      <td>Jul 05, 2023</td>\n",
       "      <td>34,344.72</td>\n",
       "      <td>34,376.11</td>\n",
       "      <td>34,226.98</td>\n",
       "      <td>34,288.64</td>\n",
       "      <td>34,288.64</td>\n",
       "      <td>274,570,000</td>\n",
       "    </tr>\n",
       "    <tr>\n",
       "      <th>1</th>\n",
       "      <td>Jul 03, 2023</td>\n",
       "      <td>34,369.78</td>\n",
       "      <td>34,465.60</td>\n",
       "      <td>34,286.54</td>\n",
       "      <td>34,418.47</td>\n",
       "      <td>34,418.47</td>\n",
       "      <td>157,590,000</td>\n",
       "    </tr>\n",
       "    <tr>\n",
       "      <th>2</th>\n",
       "      <td>Jun 30, 2023</td>\n",
       "      <td>34,269.92</td>\n",
       "      <td>34,467.35</td>\n",
       "      <td>34,269.92</td>\n",
       "      <td>34,407.60</td>\n",
       "      <td>34,407.60</td>\n",
       "      <td>351,060,000</td>\n",
       "    </tr>\n",
       "    <tr>\n",
       "      <th>3</th>\n",
       "      <td>Jun 29, 2023</td>\n",
       "      <td>33,854.57</td>\n",
       "      <td>34,147.68</td>\n",
       "      <td>33,828.63</td>\n",
       "      <td>34,122.42</td>\n",
       "      <td>34,122.42</td>\n",
       "      <td>279,940,000</td>\n",
       "    </tr>\n",
       "    <tr>\n",
       "      <th>4</th>\n",
       "      <td>Jun 28, 2023</td>\n",
       "      <td>33,881.38</td>\n",
       "      <td>33,903.76</td>\n",
       "      <td>33,755.92</td>\n",
       "      <td>33,852.66</td>\n",
       "      <td>33,852.66</td>\n",
       "      <td>268,050,000</td>\n",
       "    </tr>\n",
       "  </tbody>\n",
       "</table>\n",
       "</div>"
      ],
      "text/plain": [
       "           Date       Open       High        Low     Close* Adj Close**  \\\n",
       "0  Jul 05, 2023  34,344.72  34,376.11  34,226.98  34,288.64   34,288.64   \n",
       "1  Jul 03, 2023  34,369.78  34,465.60  34,286.54  34,418.47   34,418.47   \n",
       "2  Jun 30, 2023  34,269.92  34,467.35  34,269.92  34,407.60   34,407.60   \n",
       "3  Jun 29, 2023  33,854.57  34,147.68  33,828.63  34,122.42   34,122.42   \n",
       "4  Jun 28, 2023  33,881.38  33,903.76  33,755.92  33,852.66   33,852.66   \n",
       "\n",
       "        Volume  \n",
       "0  274,570,000  \n",
       "1  157,590,000  \n",
       "2  351,060,000  \n",
       "3  279,940,000  \n",
       "4  268,050,000  "
      ]
     },
     "execution_count": 6,
     "metadata": {},
     "output_type": "execute_result"
    }
   ],
   "source": [
    "df_djia.head()"
   ]
  },
  {
   "cell_type": "code",
   "execution_count": 8,
   "id": "5f6d4a4b",
   "metadata": {},
   "outputs": [
    {
     "name": "stdout",
     "output_type": "stream",
     "text": [
      "<class 'pandas.core.frame.DataFrame'>\n",
      "RangeIndex: 3775 entries, 0 to 3774\n",
      "Data columns (total 7 columns):\n",
      " #   Column       Non-Null Count  Dtype \n",
      "---  ------       --------------  ----- \n",
      " 0   Date         3775 non-null   object\n",
      " 1   Open         3775 non-null   object\n",
      " 2   High         3775 non-null   object\n",
      " 3   Low          3775 non-null   object\n",
      " 4   Close*       3775 non-null   object\n",
      " 5   Adj Close**  3775 non-null   object\n",
      " 6   Volume       3775 non-null   object\n",
      "dtypes: object(7)\n",
      "memory usage: 206.6+ KB\n"
     ]
    }
   ],
   "source": [
    "df_djia.info()"
   ]
  },
  {
   "cell_type": "code",
   "execution_count": 18,
   "id": "6689ac5e",
   "metadata": {},
   "outputs": [
    {
     "data": {
      "text/plain": [
       "0       34,288.64\n",
       "1       34,418.47\n",
       "2       34,407.60\n",
       "3       34,122.42\n",
       "4       33,852.66\n",
       "          ...    \n",
       "3770    11,100.54\n",
       "3771    11,229.02\n",
       "3772    11,147.44\n",
       "3773    11,384.21\n",
       "3774    11,231.96\n",
       "Name: Adj Close**, Length: 3775, dtype: object"
      ]
     },
     "execution_count": 18,
     "metadata": {},
     "output_type": "execute_result"
    }
   ],
   "source": [
    "#convert from object to umber\n",
    "df_djia['Adj Close**']=df_djia['Adj Close**'].replace(\",\", \"\")\n",
    "df_djia['Adj Close**']\n",
    "#df_djia['Adj Close**']=df_djia['Adj Close**'].apply(float)"
   ]
  },
  {
   "cell_type": "markdown",
   "id": "2ae239fb",
   "metadata": {},
   "source": [
    "**RSI**"
   ]
  },
  {
   "cell_type": "code",
   "execution_count": 7,
   "id": "df34d24c",
   "metadata": {},
   "outputs": [
    {
     "ename": "TypeError",
     "evalue": "unsupported operand type(s) for -: 'str' and 'str'",
     "output_type": "error",
     "traceback": [
      "\u001b[0;31m---------------------------------------------------------------------------\u001b[0m",
      "\u001b[0;31mTypeError\u001b[0m                                 Traceback (most recent call last)",
      "Cell \u001b[0;32mIn[7], line 2\u001b[0m\n\u001b[1;32m      1\u001b[0m \u001b[38;5;66;03m#calculate the difference of price\u001b[39;00m\n\u001b[0;32m----> 2\u001b[0m change\u001b[38;5;241m=\u001b[39m\u001b[43mdf_djia\u001b[49m\u001b[43m[\u001b[49m\u001b[38;5;124;43m'\u001b[39;49m\u001b[38;5;124;43mAdj Close**\u001b[39;49m\u001b[38;5;124;43m'\u001b[39;49m\u001b[43m]\u001b[49m\u001b[38;5;241;43m.\u001b[39;49m\u001b[43mdiff\u001b[49m\u001b[43m(\u001b[49m\u001b[43m)\u001b[49m\n\u001b[1;32m      3\u001b[0m change\u001b[38;5;241m.\u001b[39mdropna(inplace\u001b[38;5;241m=\u001b[39m\u001b[38;5;28;01mTrue\u001b[39;00m)\n\u001b[1;32m      4\u001b[0m change\n",
      "File \u001b[0;32m~/Documents/04WSP/venv/lib/python3.8/site-packages/pandas/core/series.py:2870\u001b[0m, in \u001b[0;36mSeries.diff\u001b[0;34m(self, periods)\u001b[0m\n\u001b[1;32m   2785\u001b[0m \u001b[38;5;129m@doc\u001b[39m(\n\u001b[1;32m   2786\u001b[0m     klass\u001b[38;5;241m=\u001b[39m\u001b[38;5;124m\"\u001b[39m\u001b[38;5;124mSeries\u001b[39m\u001b[38;5;124m\"\u001b[39m,\n\u001b[1;32m   2787\u001b[0m     extra_params\u001b[38;5;241m=\u001b[39m\u001b[38;5;124m\"\u001b[39m\u001b[38;5;124m\"\u001b[39m,\n\u001b[0;32m   (...)\u001b[0m\n\u001b[1;32m   2833\u001b[0m )\n\u001b[1;32m   2834\u001b[0m \u001b[38;5;28;01mdef\u001b[39;00m \u001b[38;5;21mdiff\u001b[39m(\u001b[38;5;28mself\u001b[39m, periods: \u001b[38;5;28mint\u001b[39m \u001b[38;5;241m=\u001b[39m \u001b[38;5;241m1\u001b[39m) \u001b[38;5;241m-\u001b[39m\u001b[38;5;241m>\u001b[39m Series:\n\u001b[1;32m   2835\u001b[0m \u001b[38;5;250m    \u001b[39m\u001b[38;5;124;03m\"\"\"\u001b[39;00m\n\u001b[1;32m   2836\u001b[0m \u001b[38;5;124;03m    First discrete difference of element.\u001b[39;00m\n\u001b[1;32m   2837\u001b[0m \n\u001b[0;32m   (...)\u001b[0m\n\u001b[1;32m   2868\u001b[0m \u001b[38;5;124;03m    {examples}\u001b[39;00m\n\u001b[1;32m   2869\u001b[0m \u001b[38;5;124;03m    \"\"\"\u001b[39;00m\n\u001b[0;32m-> 2870\u001b[0m     result \u001b[38;5;241m=\u001b[39m \u001b[43malgorithms\u001b[49m\u001b[38;5;241;43m.\u001b[39;49m\u001b[43mdiff\u001b[49m\u001b[43m(\u001b[49m\u001b[38;5;28;43mself\u001b[39;49m\u001b[38;5;241;43m.\u001b[39;49m\u001b[43m_values\u001b[49m\u001b[43m,\u001b[49m\u001b[43m \u001b[49m\u001b[43mperiods\u001b[49m\u001b[43m)\u001b[49m\n\u001b[1;32m   2871\u001b[0m     \u001b[38;5;28;01mreturn\u001b[39;00m \u001b[38;5;28mself\u001b[39m\u001b[38;5;241m.\u001b[39m_constructor(result, index\u001b[38;5;241m=\u001b[39m\u001b[38;5;28mself\u001b[39m\u001b[38;5;241m.\u001b[39mindex, copy\u001b[38;5;241m=\u001b[39m\u001b[38;5;28;01mFalse\u001b[39;00m)\u001b[38;5;241m.\u001b[39m__finalize__(\n\u001b[1;32m   2872\u001b[0m         \u001b[38;5;28mself\u001b[39m, method\u001b[38;5;241m=\u001b[39m\u001b[38;5;124m\"\u001b[39m\u001b[38;5;124mdiff\u001b[39m\u001b[38;5;124m\"\u001b[39m\n\u001b[1;32m   2873\u001b[0m     )\n",
      "File \u001b[0;32m~/Documents/04WSP/venv/lib/python3.8/site-packages/pandas/core/algorithms.py:1454\u001b[0m, in \u001b[0;36mdiff\u001b[0;34m(arr, n, axis)\u001b[0m\n\u001b[1;32m   1451\u001b[0m     _lag_indexer[axis] \u001b[38;5;241m=\u001b[39m \u001b[38;5;28mslice\u001b[39m(\u001b[38;5;28;01mNone\u001b[39;00m, \u001b[38;5;241m-\u001b[39mn) \u001b[38;5;28;01mif\u001b[39;00m n \u001b[38;5;241m>\u001b[39m \u001b[38;5;241m0\u001b[39m \u001b[38;5;28;01melse\u001b[39;00m \u001b[38;5;28mslice\u001b[39m(\u001b[38;5;241m-\u001b[39mn, \u001b[38;5;28;01mNone\u001b[39;00m)\n\u001b[1;32m   1452\u001b[0m     lag_indexer \u001b[38;5;241m=\u001b[39m \u001b[38;5;28mtuple\u001b[39m(_lag_indexer)\n\u001b[0;32m-> 1454\u001b[0m     out_arr[res_indexer] \u001b[38;5;241m=\u001b[39m \u001b[43mop\u001b[49m\u001b[43m(\u001b[49m\u001b[43marr\u001b[49m\u001b[43m[\u001b[49m\u001b[43mres_indexer\u001b[49m\u001b[43m]\u001b[49m\u001b[43m,\u001b[49m\u001b[43m \u001b[49m\u001b[43marr\u001b[49m\u001b[43m[\u001b[49m\u001b[43mlag_indexer\u001b[49m\u001b[43m]\u001b[49m\u001b[43m)\u001b[49m\n\u001b[1;32m   1456\u001b[0m \u001b[38;5;28;01mif\u001b[39;00m is_timedelta:\n\u001b[1;32m   1457\u001b[0m     out_arr \u001b[38;5;241m=\u001b[39m out_arr\u001b[38;5;241m.\u001b[39mview(\u001b[38;5;124m\"\u001b[39m\u001b[38;5;124mtimedelta64[ns]\u001b[39m\u001b[38;5;124m\"\u001b[39m)\n",
      "\u001b[0;31mTypeError\u001b[0m: unsupported operand type(s) for -: 'str' and 'str'"
     ]
    }
   ],
   "source": [
    "#calculate the difference of price\n",
    "\n",
    "change=df_djia['Adj Close**'].diff()\n",
    "change.dropna(inplace=True)\n",
    "change"
   ]
  },
  {
   "cell_type": "code",
   "execution_count": null,
   "id": "4c5db410",
   "metadata": {},
   "outputs": [],
   "source": []
  }
 ],
 "metadata": {
  "kernelspec": {
   "display_name": "Python 3 (ipykernel)",
   "language": "python",
   "name": "python3"
  },
  "language_info": {
   "codemirror_mode": {
    "name": "ipython",
    "version": 3
   },
   "file_extension": ".py",
   "mimetype": "text/x-python",
   "name": "python",
   "nbconvert_exporter": "python",
   "pygments_lexer": "ipython3",
   "version": "3.8.9"
  }
 },
 "nbformat": 4,
 "nbformat_minor": 5
}
