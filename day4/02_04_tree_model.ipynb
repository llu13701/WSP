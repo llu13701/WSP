{
 "cells": [
  {
   "cell_type": "code",
   "execution_count": 3,
   "id": "8fa7bb07",
   "metadata": {},
   "outputs": [],
   "source": [
    "#https://medium.com/sfu-cspmp/xgboost-a-deep-dive-into-boosting-f06c9c41349\n",
    "#very good reference"
   ]
  },
  {
   "cell_type": "code",
   "execution_count": 4,
   "id": "de1d8f41",
   "metadata": {},
   "outputs": [],
   "source": [
    "import pandas as pd\n",
    "import numpy as np"
   ]
  },
  {
   "cell_type": "code",
   "execution_count": 5,
   "id": "9b073343",
   "metadata": {},
   "outputs": [],
   "source": [
    "df_prediction=pd.DataFrame(columns=['Date'])"
   ]
  },
  {
   "cell_type": "code",
   "execution_count": 6,
   "id": "457bdbff",
   "metadata": {},
   "outputs": [],
   "source": [
    "df_master=pd.read_csv(\"df_master.csv\", index_col=0)"
   ]
  },
  {
   "cell_type": "code",
   "execution_count": 7,
   "id": "decdbf6b",
   "metadata": {},
   "outputs": [
    {
     "data": {
      "text/html": [
       "<div>\n",
       "<style scoped>\n",
       "    .dataframe tbody tr th:only-of-type {\n",
       "        vertical-align: middle;\n",
       "    }\n",
       "\n",
       "    .dataframe tbody tr th {\n",
       "        vertical-align: top;\n",
       "    }\n",
       "\n",
       "    .dataframe thead th {\n",
       "        text-align: right;\n",
       "    }\n",
       "</style>\n",
       "<table border=\"1\" class=\"dataframe\">\n",
       "  <thead>\n",
       "    <tr style=\"text-align: right;\">\n",
       "      <th></th>\n",
       "      <th>Date</th>\n",
       "      <th>Open</th>\n",
       "      <th>High</th>\n",
       "      <th>Low</th>\n",
       "      <th>Close*</th>\n",
       "      <th>Adj Close**</th>\n",
       "      <th>Volume</th>\n",
       "      <th>percentage</th>\n",
       "      <th>z-score</th>\n",
       "      <th>Label</th>\n",
       "      <th>...</th>\n",
       "      <th>Gain</th>\n",
       "      <th>Loss</th>\n",
       "      <th>AVG_Gain</th>\n",
       "      <th>AVG_Loss</th>\n",
       "      <th>RS</th>\n",
       "      <th>RSI</th>\n",
       "      <th>obv</th>\n",
       "      <th>VAO</th>\n",
       "      <th>Positive</th>\n",
       "      <th>VolumePositive</th>\n",
       "    </tr>\n",
       "  </thead>\n",
       "  <tbody>\n",
       "    <tr>\n",
       "      <th>0</th>\n",
       "      <td>2008-09-17</td>\n",
       "      <td>11056.58</td>\n",
       "      <td>11057.31</td>\n",
       "      <td>10595.90</td>\n",
       "      <td>10609.66</td>\n",
       "      <td>10609.66</td>\n",
       "      <td>463200000.0</td>\n",
       "      <td>-0.040633</td>\n",
       "      <td>-3.403907</td>\n",
       "      <td>0.0</td>\n",
       "      <td>...</td>\n",
       "      <td>NaN</td>\n",
       "      <td>NaN</td>\n",
       "      <td>NaN</td>\n",
       "      <td>NaN</td>\n",
       "      <td>NaN</td>\n",
       "      <td>NaN</td>\n",
       "      <td>0.000000e+00</td>\n",
       "      <td>-1.004889e+11</td>\n",
       "      <td>False</td>\n",
       "      <td>False</td>\n",
       "    </tr>\n",
       "    <tr>\n",
       "      <th>1</th>\n",
       "      <td>2008-09-18</td>\n",
       "      <td>10609.01</td>\n",
       "      <td>11076.44</td>\n",
       "      <td>10459.44</td>\n",
       "      <td>11019.69</td>\n",
       "      <td>11019.69</td>\n",
       "      <td>488060000.0</td>\n",
       "      <td>0.038647</td>\n",
       "      <td>-1.564634</td>\n",
       "      <td>1.0</td>\n",
       "      <td>...</td>\n",
       "      <td>410.03</td>\n",
       "      <td>0.00</td>\n",
       "      <td>NaN</td>\n",
       "      <td>NaN</td>\n",
       "      <td>NaN</td>\n",
       "      <td>NaN</td>\n",
       "      <td>4.880600e+08</td>\n",
       "      <td>1.228691e+11</td>\n",
       "      <td>True</td>\n",
       "      <td>True</td>\n",
       "    </tr>\n",
       "    <tr>\n",
       "      <th>2</th>\n",
       "      <td>2008-09-19</td>\n",
       "      <td>11027.51</td>\n",
       "      <td>11483.05</td>\n",
       "      <td>11026.70</td>\n",
       "      <td>11388.44</td>\n",
       "      <td>11388.44</td>\n",
       "      <td>655110000.0</td>\n",
       "      <td>0.033463</td>\n",
       "      <td>0.011810</td>\n",
       "      <td>1.0</td>\n",
       "      <td>...</td>\n",
       "      <td>368.75</td>\n",
       "      <td>0.00</td>\n",
       "      <td>NaN</td>\n",
       "      <td>NaN</td>\n",
       "      <td>NaN</td>\n",
       "      <td>NaN</td>\n",
       "      <td>1.143170e+09</td>\n",
       "      <td>8.749977e+10</td>\n",
       "      <td>True</td>\n",
       "      <td>True</td>\n",
       "    </tr>\n",
       "    <tr>\n",
       "      <th>3</th>\n",
       "      <td>2008-09-22</td>\n",
       "      <td>11394.42</td>\n",
       "      <td>11394.58</td>\n",
       "      <td>10992.20</td>\n",
       "      <td>11015.69</td>\n",
       "      <td>11015.69</td>\n",
       "      <td>213210000.0</td>\n",
       "      <td>-0.032731</td>\n",
       "      <td>-1.549244</td>\n",
       "      <td>0.0</td>\n",
       "      <td>...</td>\n",
       "      <td>0.00</td>\n",
       "      <td>372.75</td>\n",
       "      <td>NaN</td>\n",
       "      <td>NaN</td>\n",
       "      <td>NaN</td>\n",
       "      <td>NaN</td>\n",
       "      <td>9.299600e+08</td>\n",
       "      <td>-3.788742e+10</td>\n",
       "      <td>False</td>\n",
       "      <td>False</td>\n",
       "    </tr>\n",
       "    <tr>\n",
       "      <th>4</th>\n",
       "      <td>2008-09-23</td>\n",
       "      <td>11015.69</td>\n",
       "      <td>11143.21</td>\n",
       "      <td>10833.94</td>\n",
       "      <td>10854.17</td>\n",
       "      <td>10854.17</td>\n",
       "      <td>204480000.0</td>\n",
       "      <td>-0.014663</td>\n",
       "      <td>-2.108707</td>\n",
       "      <td>0.0</td>\n",
       "      <td>...</td>\n",
       "      <td>0.00</td>\n",
       "      <td>161.52</td>\n",
       "      <td>NaN</td>\n",
       "      <td>NaN</td>\n",
       "      <td>NaN</td>\n",
       "      <td>NaN</td>\n",
       "      <td>7.254800e+08</td>\n",
       "      <td>-2.748313e+10</td>\n",
       "      <td>False</td>\n",
       "      <td>False</td>\n",
       "    </tr>\n",
       "  </tbody>\n",
       "</table>\n",
       "<p>5 rows × 30 columns</p>\n",
       "</div>"
      ],
      "text/plain": [
       "         Date      Open      High       Low    Close*  Adj Close**  \\\n",
       "0  2008-09-17  11056.58  11057.31  10595.90  10609.66     10609.66   \n",
       "1  2008-09-18  10609.01  11076.44  10459.44  11019.69     11019.69   \n",
       "2  2008-09-19  11027.51  11483.05  11026.70  11388.44     11388.44   \n",
       "3  2008-09-22  11394.42  11394.58  10992.20  11015.69     11015.69   \n",
       "4  2008-09-23  11015.69  11143.21  10833.94  10854.17     10854.17   \n",
       "\n",
       "        Volume  percentage   z-score  Label  ...    Gain    Loss  AVG_Gain  \\\n",
       "0  463200000.0   -0.040633 -3.403907    0.0  ...     NaN     NaN       NaN   \n",
       "1  488060000.0    0.038647 -1.564634    1.0  ...  410.03    0.00       NaN   \n",
       "2  655110000.0    0.033463  0.011810    1.0  ...  368.75    0.00       NaN   \n",
       "3  213210000.0   -0.032731 -1.549244    0.0  ...    0.00  372.75       NaN   \n",
       "4  204480000.0   -0.014663 -2.108707    0.0  ...    0.00  161.52       NaN   \n",
       "\n",
       "   AVG_Loss  RS  RSI           obv           VAO  Positive  VolumePositive  \n",
       "0       NaN NaN  NaN  0.000000e+00 -1.004889e+11     False           False  \n",
       "1       NaN NaN  NaN  4.880600e+08  1.228691e+11      True            True  \n",
       "2       NaN NaN  NaN  1.143170e+09  8.749977e+10      True            True  \n",
       "3       NaN NaN  NaN  9.299600e+08 -3.788742e+10     False           False  \n",
       "4       NaN NaN  NaN  7.254800e+08 -2.748313e+10     False           False  \n",
       "\n",
       "[5 rows x 30 columns]"
      ]
     },
     "execution_count": 7,
     "metadata": {},
     "output_type": "execute_result"
    }
   ],
   "source": [
    "df_master.head()"
   ]
  },
  {
   "cell_type": "code",
   "execution_count": 8,
   "id": "0e283597",
   "metadata": {},
   "outputs": [
    {
     "data": {
      "text/plain": [
       "Index(['Date', 'Open', 'High', 'Low', 'Close*', 'Adj Close**', 'Volume',\n",
       "       'percentage', 'z-score', 'Label', 'significance', 'sentiment', '30_SMA',\n",
       "       '50_SMA', '200_SMA', 'EMA', 'Upper Bollinger Band',\n",
       "       'Lower Bollinger Band', 'stoch_k', 'stoch_d', 'Gain', 'Loss',\n",
       "       'AVG_Gain', 'AVG_Loss', 'RS', 'RSI', 'obv', 'VAO', 'Positive',\n",
       "       'VolumePositive'],\n",
       "      dtype='object')"
      ]
     },
     "execution_count": 8,
     "metadata": {},
     "output_type": "execute_result"
    }
   ],
   "source": [
    "df_master.columns"
   ]
  },
  {
   "cell_type": "code",
   "execution_count": 9,
   "id": "0d822b35",
   "metadata": {},
   "outputs": [],
   "source": [
    "#30_SMA, #50_SMA, #200_SMA, #EMA, #Upper Bollinger Band, #Lower Bollinger Band, #stoch_k, #stoch_d, #RSI, #obv,#VAO\n",
    "#significance #sentiment => #percentage as the y-axis"
   ]
  },
  {
   "cell_type": "code",
   "execution_count": 10,
   "id": "5e34f9c3",
   "metadata": {},
   "outputs": [
    {
     "data": {
      "text/plain": [
       "Index(['Date', 'Open', 'High', 'Low', 'Close*', 'Adj Close**', 'Volume',\n",
       "       'percentage', 'z-score', 'Label', 'significance', 'sentiment', '30_SMA',\n",
       "       '50_SMA', '200_SMA', 'EMA', 'Upper Bollinger Band',\n",
       "       'Lower Bollinger Band', 'stoch_k', 'stoch_d', 'Gain', 'Loss',\n",
       "       'AVG_Gain', 'AVG_Loss', 'RS', 'RSI', 'obv', 'VAO', 'Positive',\n",
       "       'VolumePositive'],\n",
       "      dtype='object')"
      ]
     },
     "execution_count": 10,
     "metadata": {},
     "output_type": "execute_result"
    }
   ],
   "source": [
    "df_master.columns"
   ]
  },
  {
   "cell_type": "code",
   "execution_count": 11,
   "id": "e2e7e214",
   "metadata": {},
   "outputs": [],
   "source": [
    "df_master.head()\n",
    "df_master['percentage_yesterday']=df_master['percentage']"
   ]
  },
  {
   "cell_type": "code",
   "execution_count": 12,
   "id": "bb6b8ecd",
   "metadata": {},
   "outputs": [],
   "source": [
    "# lets first shifting\n",
    "mask = ~(df_master.columns.isin(['Date','Open', 'High', 'Low', 'Close*', 'Adj Close**', 'percentage']))\n",
    "\n",
    "cols_to_shift = df_master.columns[mask]\n",
    "\n",
    "df_master[cols_to_shift] = df_master.loc[:,mask].shift(1)\n"
   ]
  },
  {
   "cell_type": "code",
   "execution_count": 13,
   "id": "d16d09c4",
   "metadata": {
    "scrolled": false
   },
   "outputs": [
    {
     "data": {
      "text/html": [
       "<div>\n",
       "<style scoped>\n",
       "    .dataframe tbody tr th:only-of-type {\n",
       "        vertical-align: middle;\n",
       "    }\n",
       "\n",
       "    .dataframe tbody tr th {\n",
       "        vertical-align: top;\n",
       "    }\n",
       "\n",
       "    .dataframe thead th {\n",
       "        text-align: right;\n",
       "    }\n",
       "</style>\n",
       "<table border=\"1\" class=\"dataframe\">\n",
       "  <thead>\n",
       "    <tr style=\"text-align: right;\">\n",
       "      <th></th>\n",
       "      <th>Date</th>\n",
       "      <th>Open</th>\n",
       "      <th>High</th>\n",
       "      <th>Low</th>\n",
       "      <th>Close*</th>\n",
       "      <th>Adj Close**</th>\n",
       "      <th>Volume</th>\n",
       "      <th>percentage</th>\n",
       "      <th>z-score</th>\n",
       "      <th>Label</th>\n",
       "      <th>...</th>\n",
       "      <th>Loss</th>\n",
       "      <th>AVG_Gain</th>\n",
       "      <th>AVG_Loss</th>\n",
       "      <th>RS</th>\n",
       "      <th>RSI</th>\n",
       "      <th>obv</th>\n",
       "      <th>VAO</th>\n",
       "      <th>Positive</th>\n",
       "      <th>VolumePositive</th>\n",
       "      <th>percentage_yesterday</th>\n",
       "    </tr>\n",
       "  </thead>\n",
       "  <tbody>\n",
       "    <tr>\n",
       "      <th>0</th>\n",
       "      <td>2008-09-17</td>\n",
       "      <td>11056.58</td>\n",
       "      <td>11057.31</td>\n",
       "      <td>10595.90</td>\n",
       "      <td>10609.66</td>\n",
       "      <td>10609.66</td>\n",
       "      <td>NaN</td>\n",
       "      <td>-0.040633</td>\n",
       "      <td>NaN</td>\n",
       "      <td>NaN</td>\n",
       "      <td>...</td>\n",
       "      <td>NaN</td>\n",
       "      <td>NaN</td>\n",
       "      <td>NaN</td>\n",
       "      <td>NaN</td>\n",
       "      <td>NaN</td>\n",
       "      <td>NaN</td>\n",
       "      <td>NaN</td>\n",
       "      <td>NaN</td>\n",
       "      <td>NaN</td>\n",
       "      <td>NaN</td>\n",
       "    </tr>\n",
       "    <tr>\n",
       "      <th>1</th>\n",
       "      <td>2008-09-18</td>\n",
       "      <td>10609.01</td>\n",
       "      <td>11076.44</td>\n",
       "      <td>10459.44</td>\n",
       "      <td>11019.69</td>\n",
       "      <td>11019.69</td>\n",
       "      <td>463200000.0</td>\n",
       "      <td>0.038647</td>\n",
       "      <td>-3.403907</td>\n",
       "      <td>0.0</td>\n",
       "      <td>...</td>\n",
       "      <td>NaN</td>\n",
       "      <td>NaN</td>\n",
       "      <td>NaN</td>\n",
       "      <td>NaN</td>\n",
       "      <td>NaN</td>\n",
       "      <td>0.000000e+00</td>\n",
       "      <td>-1.004889e+11</td>\n",
       "      <td>False</td>\n",
       "      <td>False</td>\n",
       "      <td>-0.040633</td>\n",
       "    </tr>\n",
       "    <tr>\n",
       "      <th>2</th>\n",
       "      <td>2008-09-19</td>\n",
       "      <td>11027.51</td>\n",
       "      <td>11483.05</td>\n",
       "      <td>11026.70</td>\n",
       "      <td>11388.44</td>\n",
       "      <td>11388.44</td>\n",
       "      <td>488060000.0</td>\n",
       "      <td>0.033463</td>\n",
       "      <td>-1.564634</td>\n",
       "      <td>1.0</td>\n",
       "      <td>...</td>\n",
       "      <td>0.00</td>\n",
       "      <td>NaN</td>\n",
       "      <td>NaN</td>\n",
       "      <td>NaN</td>\n",
       "      <td>NaN</td>\n",
       "      <td>4.880600e+08</td>\n",
       "      <td>1.228691e+11</td>\n",
       "      <td>True</td>\n",
       "      <td>True</td>\n",
       "      <td>0.038647</td>\n",
       "    </tr>\n",
       "    <tr>\n",
       "      <th>3</th>\n",
       "      <td>2008-09-22</td>\n",
       "      <td>11394.42</td>\n",
       "      <td>11394.58</td>\n",
       "      <td>10992.20</td>\n",
       "      <td>11015.69</td>\n",
       "      <td>11015.69</td>\n",
       "      <td>655110000.0</td>\n",
       "      <td>-0.032731</td>\n",
       "      <td>0.011810</td>\n",
       "      <td>1.0</td>\n",
       "      <td>...</td>\n",
       "      <td>0.00</td>\n",
       "      <td>NaN</td>\n",
       "      <td>NaN</td>\n",
       "      <td>NaN</td>\n",
       "      <td>NaN</td>\n",
       "      <td>1.143170e+09</td>\n",
       "      <td>8.749977e+10</td>\n",
       "      <td>True</td>\n",
       "      <td>True</td>\n",
       "      <td>0.033463</td>\n",
       "    </tr>\n",
       "    <tr>\n",
       "      <th>4</th>\n",
       "      <td>2008-09-23</td>\n",
       "      <td>11015.69</td>\n",
       "      <td>11143.21</td>\n",
       "      <td>10833.94</td>\n",
       "      <td>10854.17</td>\n",
       "      <td>10854.17</td>\n",
       "      <td>213210000.0</td>\n",
       "      <td>-0.014663</td>\n",
       "      <td>-1.549244</td>\n",
       "      <td>0.0</td>\n",
       "      <td>...</td>\n",
       "      <td>372.75</td>\n",
       "      <td>NaN</td>\n",
       "      <td>NaN</td>\n",
       "      <td>NaN</td>\n",
       "      <td>NaN</td>\n",
       "      <td>9.299600e+08</td>\n",
       "      <td>-3.788742e+10</td>\n",
       "      <td>False</td>\n",
       "      <td>False</td>\n",
       "      <td>-0.032731</td>\n",
       "    </tr>\n",
       "  </tbody>\n",
       "</table>\n",
       "<p>5 rows × 31 columns</p>\n",
       "</div>"
      ],
      "text/plain": [
       "         Date      Open      High       Low    Close*  Adj Close**  \\\n",
       "0  2008-09-17  11056.58  11057.31  10595.90  10609.66     10609.66   \n",
       "1  2008-09-18  10609.01  11076.44  10459.44  11019.69     11019.69   \n",
       "2  2008-09-19  11027.51  11483.05  11026.70  11388.44     11388.44   \n",
       "3  2008-09-22  11394.42  11394.58  10992.20  11015.69     11015.69   \n",
       "4  2008-09-23  11015.69  11143.21  10833.94  10854.17     10854.17   \n",
       "\n",
       "        Volume  percentage   z-score  Label  ...    Loss  AVG_Gain  AVG_Loss  \\\n",
       "0          NaN   -0.040633       NaN    NaN  ...     NaN       NaN       NaN   \n",
       "1  463200000.0    0.038647 -3.403907    0.0  ...     NaN       NaN       NaN   \n",
       "2  488060000.0    0.033463 -1.564634    1.0  ...    0.00       NaN       NaN   \n",
       "3  655110000.0   -0.032731  0.011810    1.0  ...    0.00       NaN       NaN   \n",
       "4  213210000.0   -0.014663 -1.549244    0.0  ...  372.75       NaN       NaN   \n",
       "\n",
       "   RS  RSI           obv           VAO  Positive  VolumePositive  \\\n",
       "0 NaN  NaN           NaN           NaN       NaN             NaN   \n",
       "1 NaN  NaN  0.000000e+00 -1.004889e+11     False           False   \n",
       "2 NaN  NaN  4.880600e+08  1.228691e+11      True            True   \n",
       "3 NaN  NaN  1.143170e+09  8.749977e+10      True            True   \n",
       "4 NaN  NaN  9.299600e+08 -3.788742e+10     False           False   \n",
       "\n",
       "   percentage_yesterday  \n",
       "0                   NaN  \n",
       "1             -0.040633  \n",
       "2              0.038647  \n",
       "3              0.033463  \n",
       "4             -0.032731  \n",
       "\n",
       "[5 rows x 31 columns]"
      ]
     },
     "execution_count": 13,
     "metadata": {},
     "output_type": "execute_result"
    }
   ],
   "source": [
    "df_master.head() #look at the positive columsn, we are using yesterday's information"
   ]
  },
  {
   "cell_type": "markdown",
   "id": "e391e091",
   "metadata": {},
   "source": [
    "# XGBoost Regression"
   ]
  },
  {
   "cell_type": "code",
   "execution_count": 14,
   "id": "bf6d5d0f",
   "metadata": {},
   "outputs": [],
   "source": [
    "import xgboost as xgb"
   ]
  },
  {
   "cell_type": "code",
   "execution_count": 15,
   "id": "ba3409ff",
   "metadata": {},
   "outputs": [],
   "source": [
    "model=xgb.XGBRegressor()"
   ]
  },
  {
   "cell_type": "code",
   "execution_count": 16,
   "id": "41672d2a",
   "metadata": {},
   "outputs": [],
   "source": [
    "from sklearn.model_selection import train_test_split\n"
   ]
  },
  {
   "cell_type": "code",
   "execution_count": 17,
   "id": "628ea585",
   "metadata": {},
   "outputs": [],
   "source": [
    "X=df_master[['significance', 'sentiment', '30_SMA', '50_SMA', '200_SMA', 'EMA', 'Upper Bollinger Band', 'Lower Bollinger Band', 'stoch_k', 'stoch_d', 'RSI', 'obv', 'VAO', 'percentage_yesterday']]"
   ]
  },
  {
   "cell_type": "code",
   "execution_count": 18,
   "id": "27d5e644",
   "metadata": {},
   "outputs": [],
   "source": [
    "y=df_master[['percentage', 'Date']]"
   ]
  },
  {
   "cell_type": "code",
   "execution_count": 19,
   "id": "26b5d6cd",
   "metadata": {},
   "outputs": [],
   "source": [
    "X_train, X_test, y_train, y_test = train_test_split(X, y, test_size = 0.3, random_state = 99, shuffle=False)"
   ]
  },
  {
   "cell_type": "code",
   "execution_count": 20,
   "id": "14c18718",
   "metadata": {},
   "outputs": [
    {
     "data": {
      "text/html": [
       "<div>\n",
       "<style scoped>\n",
       "    .dataframe tbody tr th:only-of-type {\n",
       "        vertical-align: middle;\n",
       "    }\n",
       "\n",
       "    .dataframe tbody tr th {\n",
       "        vertical-align: top;\n",
       "    }\n",
       "\n",
       "    .dataframe thead th {\n",
       "        text-align: right;\n",
       "    }\n",
       "</style>\n",
       "<table border=\"1\" class=\"dataframe\">\n",
       "  <thead>\n",
       "    <tr style=\"text-align: right;\">\n",
       "      <th></th>\n",
       "      <th>percentage</th>\n",
       "      <th>Date</th>\n",
       "    </tr>\n",
       "  </thead>\n",
       "  <tbody>\n",
       "    <tr>\n",
       "      <th>0</th>\n",
       "      <td>-0.040633</td>\n",
       "      <td>2008-09-17</td>\n",
       "    </tr>\n",
       "    <tr>\n",
       "      <th>1</th>\n",
       "      <td>0.038647</td>\n",
       "      <td>2008-09-18</td>\n",
       "    </tr>\n",
       "    <tr>\n",
       "      <th>2</th>\n",
       "      <td>0.033463</td>\n",
       "      <td>2008-09-19</td>\n",
       "    </tr>\n",
       "    <tr>\n",
       "      <th>3</th>\n",
       "      <td>-0.032731</td>\n",
       "      <td>2008-09-22</td>\n",
       "    </tr>\n",
       "    <tr>\n",
       "      <th>4</th>\n",
       "      <td>-0.014663</td>\n",
       "      <td>2008-09-23</td>\n",
       "    </tr>\n",
       "    <tr>\n",
       "      <th>...</th>\n",
       "      <td>...</td>\n",
       "      <td>...</td>\n",
       "    </tr>\n",
       "    <tr>\n",
       "      <th>1366</th>\n",
       "      <td>0.001159</td>\n",
       "      <td>2014-02-26</td>\n",
       "    </tr>\n",
       "    <tr>\n",
       "      <th>1367</th>\n",
       "      <td>0.004583</td>\n",
       "      <td>2014-02-27</td>\n",
       "    </tr>\n",
       "    <tr>\n",
       "      <th>1368</th>\n",
       "      <td>0.003015</td>\n",
       "      <td>2014-02-28</td>\n",
       "    </tr>\n",
       "    <tr>\n",
       "      <th>1369</th>\n",
       "      <td>-0.009416</td>\n",
       "      <td>2014-03-03</td>\n",
       "    </tr>\n",
       "    <tr>\n",
       "      <th>1370</th>\n",
       "      <td>0.014093</td>\n",
       "      <td>2014-03-04</td>\n",
       "    </tr>\n",
       "  </tbody>\n",
       "</table>\n",
       "<p>1371 rows × 2 columns</p>\n",
       "</div>"
      ],
      "text/plain": [
       "      percentage        Date\n",
       "0      -0.040633  2008-09-17\n",
       "1       0.038647  2008-09-18\n",
       "2       0.033463  2008-09-19\n",
       "3      -0.032731  2008-09-22\n",
       "4      -0.014663  2008-09-23\n",
       "...          ...         ...\n",
       "1366    0.001159  2014-02-26\n",
       "1367    0.004583  2014-02-27\n",
       "1368    0.003015  2014-02-28\n",
       "1369   -0.009416  2014-03-03\n",
       "1370    0.014093  2014-03-04\n",
       "\n",
       "[1371 rows x 2 columns]"
      ]
     },
     "execution_count": 20,
     "metadata": {},
     "output_type": "execute_result"
    }
   ],
   "source": [
    "y_train"
   ]
  },
  {
   "cell_type": "code",
   "execution_count": 21,
   "id": "9610d661",
   "metadata": {},
   "outputs": [
    {
     "data": {
      "text/html": [
       "<div>\n",
       "<style scoped>\n",
       "    .dataframe tbody tr th:only-of-type {\n",
       "        vertical-align: middle;\n",
       "    }\n",
       "\n",
       "    .dataframe tbody tr th {\n",
       "        vertical-align: top;\n",
       "    }\n",
       "\n",
       "    .dataframe thead th {\n",
       "        text-align: right;\n",
       "    }\n",
       "</style>\n",
       "<table border=\"1\" class=\"dataframe\">\n",
       "  <thead>\n",
       "    <tr style=\"text-align: right;\">\n",
       "      <th></th>\n",
       "      <th>percentage</th>\n",
       "      <th>Date</th>\n",
       "    </tr>\n",
       "  </thead>\n",
       "  <tbody>\n",
       "    <tr>\n",
       "      <th>1371</th>\n",
       "      <td>-0.002177</td>\n",
       "      <td>2014-03-05</td>\n",
       "    </tr>\n",
       "    <tr>\n",
       "      <th>1372</th>\n",
       "      <td>0.003772</td>\n",
       "      <td>2014-03-06</td>\n",
       "    </tr>\n",
       "    <tr>\n",
       "      <th>1373</th>\n",
       "      <td>0.001877</td>\n",
       "      <td>2014-03-07</td>\n",
       "    </tr>\n",
       "    <tr>\n",
       "      <th>1374</th>\n",
       "      <td>-0.002069</td>\n",
       "      <td>2014-03-10</td>\n",
       "    </tr>\n",
       "    <tr>\n",
       "      <th>1375</th>\n",
       "      <td>-0.004107</td>\n",
       "      <td>2014-03-11</td>\n",
       "    </tr>\n",
       "    <tr>\n",
       "      <th>...</th>\n",
       "      <td>...</td>\n",
       "      <td>...</td>\n",
       "    </tr>\n",
       "    <tr>\n",
       "      <th>1954</th>\n",
       "      <td>-0.014971</td>\n",
       "      <td>2016-06-27</td>\n",
       "    </tr>\n",
       "    <tr>\n",
       "      <th>1955</th>\n",
       "      <td>0.015722</td>\n",
       "      <td>2016-06-28</td>\n",
       "    </tr>\n",
       "    <tr>\n",
       "      <th>1956</th>\n",
       "      <td>0.016368</td>\n",
       "      <td>2016-06-29</td>\n",
       "    </tr>\n",
       "    <tr>\n",
       "      <th>1957</th>\n",
       "      <td>0.013298</td>\n",
       "      <td>2016-06-30</td>\n",
       "    </tr>\n",
       "    <tr>\n",
       "      <th>1958</th>\n",
       "      <td>0.001081</td>\n",
       "      <td>2016-07-01</td>\n",
       "    </tr>\n",
       "  </tbody>\n",
       "</table>\n",
       "<p>588 rows × 2 columns</p>\n",
       "</div>"
      ],
      "text/plain": [
       "      percentage        Date\n",
       "1371   -0.002177  2014-03-05\n",
       "1372    0.003772  2014-03-06\n",
       "1373    0.001877  2014-03-07\n",
       "1374   -0.002069  2014-03-10\n",
       "1375   -0.004107  2014-03-11\n",
       "...          ...         ...\n",
       "1954   -0.014971  2016-06-27\n",
       "1955    0.015722  2016-06-28\n",
       "1956    0.016368  2016-06-29\n",
       "1957    0.013298  2016-06-30\n",
       "1958    0.001081  2016-07-01\n",
       "\n",
       "[588 rows x 2 columns]"
      ]
     },
     "execution_count": 21,
     "metadata": {},
     "output_type": "execute_result"
    }
   ],
   "source": [
    "y_test"
   ]
  },
  {
   "cell_type": "code",
   "execution_count": 19,
   "id": "6615080f",
   "metadata": {},
   "outputs": [],
   "source": [
    "df_prediction['Date']=y_test['Date']"
   ]
  },
  {
   "cell_type": "code",
   "execution_count": 20,
   "id": "116822ac",
   "metadata": {},
   "outputs": [],
   "source": [
    "y_test=y_test.drop(columns='Date')\n",
    "y_train=y_train.drop(columns='Date')"
   ]
  },
  {
   "cell_type": "code",
   "execution_count": 21,
   "id": "7198a95f",
   "metadata": {},
   "outputs": [
    {
     "name": "stdout",
     "output_type": "stream",
     "text": [
      "<class 'pandas.core.frame.DataFrame'>\n",
      "Index: 1371 entries, 0 to 1370\n",
      "Data columns (total 14 columns):\n",
      " #   Column                Non-Null Count  Dtype  \n",
      "---  ------                --------------  -----  \n",
      " 0   significance          1370 non-null   float64\n",
      " 1   sentiment             1370 non-null   float64\n",
      " 2   30_SMA                1370 non-null   float64\n",
      " 3   50_SMA                1370 non-null   float64\n",
      " 4   200_SMA               1370 non-null   float64\n",
      " 5   EMA                   1171 non-null   float64\n",
      " 6   Upper Bollinger Band  1321 non-null   float64\n",
      " 7   Lower Bollinger Band  1321 non-null   float64\n",
      " 8   stoch_k               1171 non-null   float64\n",
      " 9   stoch_d               1122 non-null   float64\n",
      " 10  RSI                   1320 non-null   float64\n",
      " 11  obv                   1370 non-null   float64\n",
      " 12  VAO                   1370 non-null   float64\n",
      " 13  percentage_yesterday  1370 non-null   float64\n",
      "dtypes: float64(14)\n",
      "memory usage: 160.7 KB\n"
     ]
    }
   ],
   "source": [
    "X_train.info()"
   ]
  },
  {
   "cell_type": "code",
   "execution_count": 22,
   "id": "b734a6f7",
   "metadata": {},
   "outputs": [
    {
     "name": "stdout",
     "output_type": "stream",
     "text": [
      "<class 'pandas.core.frame.DataFrame'>\n",
      "Index: 588 entries, 1371 to 1958\n",
      "Data columns (total 14 columns):\n",
      " #   Column                Non-Null Count  Dtype  \n",
      "---  ------                --------------  -----  \n",
      " 0   significance          588 non-null    float64\n",
      " 1   sentiment             588 non-null    float64\n",
      " 2   30_SMA                588 non-null    float64\n",
      " 3   50_SMA                588 non-null    float64\n",
      " 4   200_SMA               588 non-null    float64\n",
      " 5   EMA                   588 non-null    float64\n",
      " 6   Upper Bollinger Band  588 non-null    float64\n",
      " 7   Lower Bollinger Band  588 non-null    float64\n",
      " 8   stoch_k               588 non-null    float64\n",
      " 9   stoch_d               588 non-null    float64\n",
      " 10  RSI                   588 non-null    float64\n",
      " 11  obv                   588 non-null    float64\n",
      " 12  VAO                   588 non-null    float64\n",
      " 13  percentage_yesterday  588 non-null    float64\n",
      "dtypes: float64(14)\n",
      "memory usage: 68.9 KB\n"
     ]
    }
   ],
   "source": [
    "X_test.info()"
   ]
  },
  {
   "cell_type": "code",
   "execution_count": 23,
   "id": "59f4be24",
   "metadata": {},
   "outputs": [],
   "source": [
    "train_matrix=xgb.DMatrix(data=X_train, label=y_train)\n",
    "test_matrix=xgb.DMatrix(data=X_test, label=y_test)"
   ]
  },
  {
   "cell_type": "code",
   "execution_count": 24,
   "id": "f162e266",
   "metadata": {},
   "outputs": [],
   "source": [
    "reg_params =  [1, 10, 100]\n"
   ]
  },
  {
   "cell_type": "code",
   "execution_count": 25,
   "id": "5064054e",
   "metadata": {},
   "outputs": [],
   "source": [
    "params = {\"objective\": \"reg:squarederror\"}\n"
   ]
  },
  {
   "cell_type": "code",
   "execution_count": 26,
   "id": "3f726c7b",
   "metadata": {},
   "outputs": [],
   "source": [
    "# Create an empty list for storing rmses as a function of ridge regression complexity\n",
    "ridge_regression = []\n"
   ]
  },
  {
   "cell_type": "code",
   "execution_count": 27,
   "id": "d14ce05f",
   "metadata": {},
   "outputs": [],
   "source": [
    "# Iterate over reg_params\n",
    "for reg in reg_params:\n",
    "\n",
    "    # Update l2 strength\n",
    "    params[\"lambda\"] = reg\n",
    "\n",
    "    # Pass this updated param dictionary into cv\n",
    "    cv_results_rmse = xgb.cv(dtrain=train_matrix, params=params, nfold=5, num_boost_round=5, metrics=\"rmse\", as_pandas=True, seed=123)\n",
    "\n",
    "    # Append best rmse (final round)\n",
    "    ridge_regression.append(cv_results_rmse[\"test-rmse-mean\"].tail(1).values[0])\n",
    "\n"
   ]
  },
  {
   "cell_type": "code",
   "execution_count": 28,
   "id": "db25f48d",
   "metadata": {},
   "outputs": [
    {
     "data": {
      "text/plain": [
       "[0.08529344483822347, 0.08673600648241078, 0.10108734696928612]"
      ]
     },
     "execution_count": 28,
     "metadata": {},
     "output_type": "execute_result"
    }
   ],
   "source": [
    "ridge_regression"
   ]
  },
  {
   "cell_type": "code",
   "execution_count": 29,
   "id": "54709ba7",
   "metadata": {},
   "outputs": [
    {
     "name": "stdout",
     "output_type": "stream",
     "text": [
      "Best RMSE as a function of ridge regression (L2 regularization):\n",
      "    l2      rmse\n",
      "0    1  0.085293\n",
      "1   10  0.086736\n",
      "2  100  0.101087\n"
     ]
    }
   ],
   "source": [
    "print(\"Best RMSE as a function of ridge regression (L2 regularization):\")\n",
    "print(pd.DataFrame(list(zip(reg_params, ridge_regression)), columns=[\"l2\", \"rmse\"]))\n"
   ]
  },
  {
   "cell_type": "code",
   "execution_count": 30,
   "id": "45023259",
   "metadata": {},
   "outputs": [],
   "source": [
    "# gets pick the best model\n",
    "params = {\"objective\": \"reg:squarederror\", \n",
    "         \"lambda\": \"1\"}\n",
    "\n",
    "bst = xgb.train(dtrain=train_matrix, params=params, num_boost_round=50)\n",
    "\n",
    "\n"
   ]
  },
  {
   "cell_type": "code",
   "execution_count": 31,
   "id": "125ee431",
   "metadata": {},
   "outputs": [],
   "source": [
    "prediction=bst.predict(test_matrix)"
   ]
  },
  {
   "cell_type": "code",
   "execution_count": 32,
   "id": "63354146",
   "metadata": {},
   "outputs": [
    {
     "data": {
      "text/html": [
       "<div>\n",
       "<style scoped>\n",
       "    .dataframe tbody tr th:only-of-type {\n",
       "        vertical-align: middle;\n",
       "    }\n",
       "\n",
       "    .dataframe tbody tr th {\n",
       "        vertical-align: top;\n",
       "    }\n",
       "\n",
       "    .dataframe thead th {\n",
       "        text-align: right;\n",
       "    }\n",
       "</style>\n",
       "<table border=\"1\" class=\"dataframe\">\n",
       "  <thead>\n",
       "    <tr style=\"text-align: right;\">\n",
       "      <th></th>\n",
       "      <th>Date</th>\n",
       "      <th>iterate_prediction</th>\n",
       "    </tr>\n",
       "  </thead>\n",
       "  <tbody>\n",
       "    <tr>\n",
       "      <th>1371</th>\n",
       "      <td>2014-03-05</td>\n",
       "      <td>-0.000488</td>\n",
       "    </tr>\n",
       "    <tr>\n",
       "      <th>1372</th>\n",
       "      <td>2014-03-06</td>\n",
       "      <td>0.004805</td>\n",
       "    </tr>\n",
       "    <tr>\n",
       "      <th>1373</th>\n",
       "      <td>2014-03-07</td>\n",
       "      <td>0.001993</td>\n",
       "    </tr>\n",
       "    <tr>\n",
       "      <th>1374</th>\n",
       "      <td>2014-03-10</td>\n",
       "      <td>0.003717</td>\n",
       "    </tr>\n",
       "    <tr>\n",
       "      <th>1375</th>\n",
       "      <td>2014-03-11</td>\n",
       "      <td>-0.001528</td>\n",
       "    </tr>\n",
       "  </tbody>\n",
       "</table>\n",
       "</div>"
      ],
      "text/plain": [
       "            Date  iterate_prediction\n",
       "1371  2014-03-05           -0.000488\n",
       "1372  2014-03-06            0.004805\n",
       "1373  2014-03-07            0.001993\n",
       "1374  2014-03-10            0.003717\n",
       "1375  2014-03-11           -0.001528"
      ]
     },
     "execution_count": 32,
     "metadata": {},
     "output_type": "execute_result"
    }
   ],
   "source": [
    "df_prediction['iterate_prediction']=prediction\n",
    "df_prediction.head()"
   ]
  },
  {
   "cell_type": "code",
   "execution_count": 33,
   "id": "d83d95f6",
   "metadata": {},
   "outputs": [
    {
     "name": "stdout",
     "output_type": "stream",
     "text": [
      "0.012073810754287054\n"
     ]
    }
   ],
   "source": [
    "from sklearn.metrics import mean_squared_error\n",
    "print((mean_squared_error(prediction, y_test, squared=False)))\n"
   ]
  },
  {
   "cell_type": "code",
   "execution_count": 34,
   "id": "896b6df5",
   "metadata": {},
   "outputs": [
    {
     "data": {
      "text/plain": [
       "<AxesSubplot:title={'center':'Feature importance'}, xlabel='F score', ylabel='Features'>"
      ]
     },
     "execution_count": 34,
     "metadata": {},
     "output_type": "execute_result"
    },
    {
     "data": {
      "image/png": "[encoded data removed]",
      "text/plain": [
       "<Figure size 640x480 with 1 Axes>"
      ]
     },
     "metadata": {},
     "output_type": "display_data"
    }
   ],
   "source": [
    "xgb.plot_importance(bst)\n"
   ]
  },
  {
   "cell_type": "markdown",
   "id": "5836aa57",
   "metadata": {},
   "source": [
    "## Grid Search ##"
   ]
  },
  {
   "cell_type": "code",
   "execution_count": 61,
   "id": "6dc2a9ac",
   "metadata": {},
   "outputs": [],
   "source": [
    "from sklearn.model_selection import GridSearchCV\n",
    "from sklearn.model_selection import RandomizedSearchCV\n"
   ]
  },
  {
   "cell_type": "code",
   "execution_count": 62,
   "id": "1cd99e03",
   "metadata": {},
   "outputs": [],
   "source": [
    "grid_search_params = {\n",
    "    'colsample_bytree': [0.3, 0.7],\n",
    "    'learning_rate': [0.01, 0.1, 0.2, 0.5],\n",
    "    'n_estimators': [100],\n",
    "    'subsample': [0.2, 0.5, 0.8],\n",
    "    'max_depth': [4, 5, 6]\n",
    "}\n"
   ]
  },
  {
   "cell_type": "code",
   "execution_count": 63,
   "id": "5b8e3952",
   "metadata": {},
   "outputs": [],
   "source": [
    "xg_grid_reg = xgb.XGBRegressor(objective= \"reg:squarederror\")\n"
   ]
  },
  {
   "cell_type": "code",
   "execution_count": 64,
   "id": "71add87d",
   "metadata": {},
   "outputs": [],
   "source": [
    "grid = GridSearchCV(estimator=xg_grid_reg, param_grid=grid_search_params, scoring='neg_mean_squared_error',\n",
    "                    cv=4, verbose=1)\n"
   ]
  },
  {
   "cell_type": "code",
   "execution_count": 65,
   "id": "050024c2",
   "metadata": {},
   "outputs": [
    {
     "name": "stdout",
     "output_type": "stream",
     "text": [
      "Fitting 4 folds for each of 72 candidates, totalling 288 fits\n"
     ]
    },
    {
     "data": {
      "text/html": [
       "<style>#sk-container-id-4 {color: black;}#sk-container-id-4 pre{padding: 0;}#sk-container-id-4 div.sk-toggleable {background-color: white;}#sk-container-id-4 label.sk-toggleable__label {cursor: pointer;display: block;width: 100%;margin-bottom: 0;padding: 0.3em;box-sizing: border-box;text-align: center;}#sk-container-id-4 label.sk-toggleable__label-arrow:before {content: \"▸\";float: left;margin-right: 0.25em;color: #696969;}#sk-container-id-4 label.sk-toggleable__label-arrow:hover:before {color: black;}#sk-container-id-4 div.sk-estimator:hover label.sk-toggleable__label-arrow:before {color: black;}#sk-container-id-4 div.sk-toggleable__content {max-height: 0;max-width: 0;overflow: hidden;text-align: left;background-color: #f0f8ff;}#sk-container-id-4 div.sk-toggleable__content pre {margin: 0.2em;color: black;border-radius: 0.25em;background-color: #f0f8ff;}#sk-container-id-4 input.sk-toggleable__control:checked~div.sk-toggleable__content {max-height: 200px;max-width: 100%;overflow: auto;}#sk-container-id-4 input.sk-toggleable__control:checked~label.sk-toggleable__label-arrow:before {content: \"▾\";}#sk-container-id-4 div.sk-estimator input.sk-toggleable__control:checked~label.sk-toggleable__label {background-color: #d4ebff;}#sk-container-id-4 div.sk-label input.sk-toggleable__control:checked~label.sk-toggleable__label {background-color: #d4ebff;}#sk-container-id-4 input.sk-hidden--visually {border: 0;clip: rect(1px 1px 1px 1px);clip: rect(1px, 1px, 1px, 1px);height: 1px;margin: -1px;overflow: hidden;padding: 0;position: absolute;width: 1px;}#sk-container-id-4 div.sk-estimator {font-family: monospace;background-color: #f0f8ff;border: 1px dotted black;border-radius: 0.25em;box-sizing: border-box;margin-bottom: 0.5em;}#sk-container-id-4 div.sk-estimator:hover {background-color: #d4ebff;}#sk-container-id-4 div.sk-parallel-item::after {content: \"\";width: 100%;border-bottom: 1px solid gray;flex-grow: 1;}#sk-container-id-4 div.sk-label:hover label.sk-toggleable__label {background-color: #d4ebff;}#sk-container-id-4 div.sk-serial::before {content: \"\";position: absolute;border-left: 1px solid gray;box-sizing: border-box;top: 0;bottom: 0;left: 50%;z-index: 0;}#sk-container-id-4 div.sk-serial {display: flex;flex-direction: column;align-items: center;background-color: white;padding-right: 0.2em;padding-left: 0.2em;position: relative;}#sk-container-id-4 div.sk-item {position: relative;z-index: 1;}#sk-container-id-4 div.sk-parallel {display: flex;align-items: stretch;justify-content: center;background-color: white;position: relative;}#sk-container-id-4 div.sk-item::before, #sk-container-id-4 div.sk-parallel-item::before {content: \"\";position: absolute;border-left: 1px solid gray;box-sizing: border-box;top: 0;bottom: 0;left: 50%;z-index: -1;}#sk-container-id-4 div.sk-parallel-item {display: flex;flex-direction: column;z-index: 1;position: relative;background-color: white;}#sk-container-id-4 div.sk-parallel-item:first-child::after {align-self: flex-end;width: 50%;}#sk-container-id-4 div.sk-parallel-item:last-child::after {align-self: flex-start;width: 50%;}#sk-container-id-4 div.sk-parallel-item:only-child::after {width: 0;}#sk-container-id-4 div.sk-dashed-wrapped {border: 1px dashed gray;margin: 0 0.4em 0.5em 0.4em;box-sizing: border-box;padding-bottom: 0.4em;background-color: white;}#sk-container-id-4 div.sk-label label {font-family: monospace;font-weight: bold;display: inline-block;line-height: 1.2em;}#sk-container-id-4 div.sk-label-container {text-align: center;}#sk-container-id-4 div.sk-container {/* jupyter's `normalize.less` sets `[hidden] { display: none; }` but bootstrap.min.css set `[hidden] { display: none !important; }` so we also need the `!important` here to be able to override the default hidden behavior on the sphinx rendered scikit-learn.org. See: https://github.com/scikit-learn/scikit-learn/issues/21755 */display: inline-block !important;position: relative;}#sk-container-id-4 div.sk-text-repr-fallback {display: none;}</style><div id=\"sk-container-id-4\" class=\"sk-top-container\"><div class=\"sk-text-repr-fallback\"><pre>GridSearchCV(cv=4,\n",
       "             estimator=XGBRegressor(base_score=None, booster=None,\n",
       "                                    callbacks=None, colsample_bylevel=None,\n",
       "                                    colsample_bynode=None,\n",
       "                                    colsample_bytree=None,\n",
       "                                    early_stopping_rounds=None,\n",
       "                                    enable_categorical=False, eval_metric=None,\n",
       "                                    feature_types=None, gamma=None, gpu_id=None,\n",
       "                                    grow_policy=None, importance_type=None,\n",
       "                                    interaction_constraints=None,\n",
       "                                    learning_rate=None, m...\n",
       "                                    max_depth=None, max_leaves=None,\n",
       "                                    min_child_weight=None, missing=nan,\n",
       "                                    monotone_constraints=None, n_estimators=100,\n",
       "                                    n_jobs=None, num_parallel_tree=None,\n",
       "                                    predictor=None, random_state=None, ...),\n",
       "             param_grid={&#x27;colsample_bytree&#x27;: [0.3, 0.7],\n",
       "                         &#x27;learning_rate&#x27;: [0.01, 0.1, 0.2, 0.5],\n",
       "                         &#x27;max_depth&#x27;: [4, 5, 6], &#x27;n_estimators&#x27;: [100],\n",
       "                         &#x27;subsample&#x27;: [0.2, 0.5, 0.8]},\n",
       "             scoring=&#x27;neg_mean_squared_error&#x27;, verbose=1)</pre><b>In a Jupyter environment, please rerun this cell to show the HTML representation or trust the notebook. <br />On GitHub, the HTML representation is unable to render, please try loading this page with nbviewer.org.</b></div><div class=\"sk-container\" hidden><div class=\"sk-item sk-dashed-wrapped\"><div class=\"sk-label-container\"><div class=\"sk-label sk-toggleable\"><input class=\"sk-toggleable__control sk-hidden--visually\" id=\"sk-estimator-id-10\" type=\"checkbox\" ><label for=\"sk-estimator-id-10\" class=\"sk-toggleable__label sk-toggleable__label-arrow\">GridSearchCV</label><div class=\"sk-toggleable__content\"><pre>GridSearchCV(cv=4,\n",
       "             estimator=XGBRegressor(base_score=None, booster=None,\n",
       "                                    callbacks=None, colsample_bylevel=None,\n",
       "                                    colsample_bynode=None,\n",
       "                                    colsample_bytree=None,\n",
       "                                    early_stopping_rounds=None,\n",
       "                                    enable_categorical=False, eval_metric=None,\n",
       "                                    feature_types=None, gamma=None, gpu_id=None,\n",
       "                                    grow_policy=None, importance_type=None,\n",
       "                                    interaction_constraints=None,\n",
       "                                    learning_rate=None, m...\n",
       "                                    max_depth=None, max_leaves=None,\n",
       "                                    min_child_weight=None, missing=nan,\n",
       "                                    monotone_constraints=None, n_estimators=100,\n",
       "                                    n_jobs=None, num_parallel_tree=None,\n",
       "                                    predictor=None, random_state=None, ...),\n",
       "             param_grid={&#x27;colsample_bytree&#x27;: [0.3, 0.7],\n",
       "                         &#x27;learning_rate&#x27;: [0.01, 0.1, 0.2, 0.5],\n",
       "                         &#x27;max_depth&#x27;: [4, 5, 6], &#x27;n_estimators&#x27;: [100],\n",
       "                         &#x27;subsample&#x27;: [0.2, 0.5, 0.8]},\n",
       "             scoring=&#x27;neg_mean_squared_error&#x27;, verbose=1)</pre></div></div></div><div class=\"sk-parallel\"><div class=\"sk-parallel-item\"><div class=\"sk-item\"><div class=\"sk-label-container\"><div class=\"sk-label sk-toggleable\"><input class=\"sk-toggleable__control sk-hidden--visually\" id=\"sk-estimator-id-11\" type=\"checkbox\" ><label for=\"sk-estimator-id-11\" class=\"sk-toggleable__label sk-toggleable__label-arrow\">estimator: XGBRegressor</label><div class=\"sk-toggleable__content\"><pre>XGBRegressor(base_score=None, booster=None, callbacks=None,\n",
       "             colsample_bylevel=None, colsample_bynode=None,\n",
       "             colsample_bytree=None, early_stopping_rounds=None,\n",
       "             enable_categorical=False, eval_metric=None, feature_types=None,\n",
       "             gamma=None, gpu_id=None, grow_policy=None, importance_type=None,\n",
       "             interaction_constraints=None, learning_rate=None, max_bin=None,\n",
       "             max_cat_threshold=None, max_cat_to_onehot=None,\n",
       "             max_delta_step=None, max_depth=None, max_leaves=None,\n",
       "             min_child_weight=None, missing=nan, monotone_constraints=None,\n",
       "             n_estimators=100, n_jobs=None, num_parallel_tree=None,\n",
       "             predictor=None, random_state=None, ...)</pre></div></div></div><div class=\"sk-serial\"><div class=\"sk-item\"><div class=\"sk-estimator sk-toggleable\"><input class=\"sk-toggleable__control sk-hidden--visually\" id=\"sk-estimator-id-12\" type=\"checkbox\" ><label for=\"sk-estimator-id-12\" class=\"sk-toggleable__label sk-toggleable__label-arrow\">XGBRegressor</label><div class=\"sk-toggleable__content\"><pre>XGBRegressor(base_score=None, booster=None, callbacks=None,\n",
       "             colsample_bylevel=None, colsample_bynode=None,\n",
       "             colsample_bytree=None, early_stopping_rounds=None,\n",
       "             enable_categorical=False, eval_metric=None, feature_types=None,\n",
       "             gamma=None, gpu_id=None, grow_policy=None, importance_type=None,\n",
       "             interaction_constraints=None, learning_rate=None, max_bin=None,\n",
       "             max_cat_threshold=None, max_cat_to_onehot=None,\n",
       "             max_delta_step=None, max_depth=None, max_leaves=None,\n",
       "             min_child_weight=None, missing=nan, monotone_constraints=None,\n",
       "             n_estimators=100, n_jobs=None, num_parallel_tree=None,\n",
       "             predictor=None, random_state=None, ...)</pre></div></div></div></div></div></div></div></div></div></div>"
      ],
      "text/plain": [
       "GridSearchCV(cv=4,\n",
       "             estimator=XGBRegressor(base_score=None, booster=None,\n",
       "                                    callbacks=None, colsample_bylevel=None,\n",
       "                                    colsample_bynode=None,\n",
       "                                    colsample_bytree=None,\n",
       "                                    early_stopping_rounds=None,\n",
       "                                    enable_categorical=False, eval_metric=None,\n",
       "                                    feature_types=None, gamma=None, gpu_id=None,\n",
       "                                    grow_policy=None, importance_type=None,\n",
       "                                    interaction_constraints=None,\n",
       "                                    learning_rate=None, m...\n",
       "                                    max_depth=None, max_leaves=None,\n",
       "                                    min_child_weight=None, missing=nan,\n",
       "                                    monotone_constraints=None, n_estimators=100,\n",
       "                                    n_jobs=None, num_parallel_tree=None,\n",
       "                                    predictor=None, random_state=None, ...),\n",
       "             param_grid={'colsample_bytree': [0.3, 0.7],\n",
       "                         'learning_rate': [0.01, 0.1, 0.2, 0.5],\n",
       "                         'max_depth': [4, 5, 6], 'n_estimators': [100],\n",
       "                         'subsample': [0.2, 0.5, 0.8]},\n",
       "             scoring='neg_mean_squared_error', verbose=1)"
      ]
     },
     "execution_count": 65,
     "metadata": {},
     "output_type": "execute_result"
    }
   ],
   "source": [
    "grid.fit(X_train, y_train)\n"
   ]
  },
  {
   "cell_type": "code",
   "execution_count": 66,
   "id": "42ae30e0",
   "metadata": {},
   "outputs": [
    {
     "data": {
      "text/html": [
       "<style>#sk-container-id-5 {color: black;}#sk-container-id-5 pre{padding: 0;}#sk-container-id-5 div.sk-toggleable {background-color: white;}#sk-container-id-5 label.sk-toggleable__label {cursor: pointer;display: block;width: 100%;margin-bottom: 0;padding: 0.3em;box-sizing: border-box;text-align: center;}#sk-container-id-5 label.sk-toggleable__label-arrow:before {content: \"▸\";float: left;margin-right: 0.25em;color: #696969;}#sk-container-id-5 label.sk-toggleable__label-arrow:hover:before {color: black;}#sk-container-id-5 div.sk-estimator:hover label.sk-toggleable__label-arrow:before {color: black;}#sk-container-id-5 div.sk-toggleable__content {max-height: 0;max-width: 0;overflow: hidden;text-align: left;background-color: #f0f8ff;}#sk-container-id-5 div.sk-toggleable__content pre {margin: 0.2em;color: black;border-radius: 0.25em;background-color: #f0f8ff;}#sk-container-id-5 input.sk-toggleable__control:checked~div.sk-toggleable__content {max-height: 200px;max-width: 100%;overflow: auto;}#sk-container-id-5 input.sk-toggleable__control:checked~label.sk-toggleable__label-arrow:before {content: \"▾\";}#sk-container-id-5 div.sk-estimator input.sk-toggleable__control:checked~label.sk-toggleable__label {background-color: #d4ebff;}#sk-container-id-5 div.sk-label input.sk-toggleable__control:checked~label.sk-toggleable__label {background-color: #d4ebff;}#sk-container-id-5 input.sk-hidden--visually {border: 0;clip: rect(1px 1px 1px 1px);clip: rect(1px, 1px, 1px, 1px);height: 1px;margin: -1px;overflow: hidden;padding: 0;position: absolute;width: 1px;}#sk-container-id-5 div.sk-estimator {font-family: monospace;background-color: #f0f8ff;border: 1px dotted black;border-radius: 0.25em;box-sizing: border-box;margin-bottom: 0.5em;}#sk-container-id-5 div.sk-estimator:hover {background-color: #d4ebff;}#sk-container-id-5 div.sk-parallel-item::after {content: \"\";width: 100%;border-bottom: 1px solid gray;flex-grow: 1;}#sk-container-id-5 div.sk-label:hover label.sk-toggleable__label {background-color: #d4ebff;}#sk-container-id-5 div.sk-serial::before {content: \"\";position: absolute;border-left: 1px solid gray;box-sizing: border-box;top: 0;bottom: 0;left: 50%;z-index: 0;}#sk-container-id-5 div.sk-serial {display: flex;flex-direction: column;align-items: center;background-color: white;padding-right: 0.2em;padding-left: 0.2em;position: relative;}#sk-container-id-5 div.sk-item {position: relative;z-index: 1;}#sk-container-id-5 div.sk-parallel {display: flex;align-items: stretch;justify-content: center;background-color: white;position: relative;}#sk-container-id-5 div.sk-item::before, #sk-container-id-5 div.sk-parallel-item::before {content: \"\";position: absolute;border-left: 1px solid gray;box-sizing: border-box;top: 0;bottom: 0;left: 50%;z-index: -1;}#sk-container-id-5 div.sk-parallel-item {display: flex;flex-direction: column;z-index: 1;position: relative;background-color: white;}#sk-container-id-5 div.sk-parallel-item:first-child::after {align-self: flex-end;width: 50%;}#sk-container-id-5 div.sk-parallel-item:last-child::after {align-self: flex-start;width: 50%;}#sk-container-id-5 div.sk-parallel-item:only-child::after {width: 0;}#sk-container-id-5 div.sk-dashed-wrapped {border: 1px dashed gray;margin: 0 0.4em 0.5em 0.4em;box-sizing: border-box;padding-bottom: 0.4em;background-color: white;}#sk-container-id-5 div.sk-label label {font-family: monospace;font-weight: bold;display: inline-block;line-height: 1.2em;}#sk-container-id-5 div.sk-label-container {text-align: center;}#sk-container-id-5 div.sk-container {/* jupyter's `normalize.less` sets `[hidden] { display: none; }` but bootstrap.min.css set `[hidden] { display: none !important; }` so we also need the `!important` here to be able to override the default hidden behavior on the sphinx rendered scikit-learn.org. See: https://github.com/scikit-learn/scikit-learn/issues/21755 */display: inline-block !important;position: relative;}#sk-container-id-5 div.sk-text-repr-fallback {display: none;}</style><div id=\"sk-container-id-5\" class=\"sk-top-container\"><div class=\"sk-text-repr-fallback\"><pre>GridSearchCV(cv=4,\n",
       "             estimator=XGBRegressor(base_score=None, booster=None,\n",
       "                                    callbacks=None, colsample_bylevel=None,\n",
       "                                    colsample_bynode=None,\n",
       "                                    colsample_bytree=None,\n",
       "                                    early_stopping_rounds=None,\n",
       "                                    enable_categorical=False, eval_metric=None,\n",
       "                                    feature_types=None, gamma=None, gpu_id=None,\n",
       "                                    grow_policy=None, importance_type=None,\n",
       "                                    interaction_constraints=None,\n",
       "                                    learning_rate=None, m...\n",
       "                                    max_depth=None, max_leaves=None,\n",
       "                                    min_child_weight=None, missing=nan,\n",
       "                                    monotone_constraints=None, n_estimators=100,\n",
       "                                    n_jobs=None, num_parallel_tree=None,\n",
       "                                    predictor=None, random_state=None, ...),\n",
       "             param_grid={&#x27;colsample_bytree&#x27;: [0.3, 0.7],\n",
       "                         &#x27;learning_rate&#x27;: [0.01, 0.1, 0.2, 0.5],\n",
       "                         &#x27;max_depth&#x27;: [4, 5, 6], &#x27;n_estimators&#x27;: [100],\n",
       "                         &#x27;subsample&#x27;: [0.2, 0.5, 0.8]},\n",
       "             scoring=&#x27;neg_mean_squared_error&#x27;, verbose=1)</pre><b>In a Jupyter environment, please rerun this cell to show the HTML representation or trust the notebook. <br />On GitHub, the HTML representation is unable to render, please try loading this page with nbviewer.org.</b></div><div class=\"sk-container\" hidden><div class=\"sk-item sk-dashed-wrapped\"><div class=\"sk-label-container\"><div class=\"sk-label sk-toggleable\"><input class=\"sk-toggleable__control sk-hidden--visually\" id=\"sk-estimator-id-13\" type=\"checkbox\" ><label for=\"sk-estimator-id-13\" class=\"sk-toggleable__label sk-toggleable__label-arrow\">GridSearchCV</label><div class=\"sk-toggleable__content\"><pre>GridSearchCV(cv=4,\n",
       "             estimator=XGBRegressor(base_score=None, booster=None,\n",
       "                                    callbacks=None, colsample_bylevel=None,\n",
       "                                    colsample_bynode=None,\n",
       "                                    colsample_bytree=None,\n",
       "                                    early_stopping_rounds=None,\n",
       "                                    enable_categorical=False, eval_metric=None,\n",
       "                                    feature_types=None, gamma=None, gpu_id=None,\n",
       "                                    grow_policy=None, importance_type=None,\n",
       "                                    interaction_constraints=None,\n",
       "                                    learning_rate=None, m...\n",
       "                                    max_depth=None, max_leaves=None,\n",
       "                                    min_child_weight=None, missing=nan,\n",
       "                                    monotone_constraints=None, n_estimators=100,\n",
       "                                    n_jobs=None, num_parallel_tree=None,\n",
       "                                    predictor=None, random_state=None, ...),\n",
       "             param_grid={&#x27;colsample_bytree&#x27;: [0.3, 0.7],\n",
       "                         &#x27;learning_rate&#x27;: [0.01, 0.1, 0.2, 0.5],\n",
       "                         &#x27;max_depth&#x27;: [4, 5, 6], &#x27;n_estimators&#x27;: [100],\n",
       "                         &#x27;subsample&#x27;: [0.2, 0.5, 0.8]},\n",
       "             scoring=&#x27;neg_mean_squared_error&#x27;, verbose=1)</pre></div></div></div><div class=\"sk-parallel\"><div class=\"sk-parallel-item\"><div class=\"sk-item\"><div class=\"sk-label-container\"><div class=\"sk-label sk-toggleable\"><input class=\"sk-toggleable__control sk-hidden--visually\" id=\"sk-estimator-id-14\" type=\"checkbox\" ><label for=\"sk-estimator-id-14\" class=\"sk-toggleable__label sk-toggleable__label-arrow\">estimator: XGBRegressor</label><div class=\"sk-toggleable__content\"><pre>XGBRegressor(base_score=None, booster=None, callbacks=None,\n",
       "             colsample_bylevel=None, colsample_bynode=None,\n",
       "             colsample_bytree=None, early_stopping_rounds=None,\n",
       "             enable_categorical=False, eval_metric=None, feature_types=None,\n",
       "             gamma=None, gpu_id=None, grow_policy=None, importance_type=None,\n",
       "             interaction_constraints=None, learning_rate=None, max_bin=None,\n",
       "             max_cat_threshold=None, max_cat_to_onehot=None,\n",
       "             max_delta_step=None, max_depth=None, max_leaves=None,\n",
       "             min_child_weight=None, missing=nan, monotone_constraints=None,\n",
       "             n_estimators=100, n_jobs=None, num_parallel_tree=None,\n",
       "             predictor=None, random_state=None, ...)</pre></div></div></div><div class=\"sk-serial\"><div class=\"sk-item\"><div class=\"sk-estimator sk-toggleable\"><input class=\"sk-toggleable__control sk-hidden--visually\" id=\"sk-estimator-id-15\" type=\"checkbox\" ><label for=\"sk-estimator-id-15\" class=\"sk-toggleable__label sk-toggleable__label-arrow\">XGBRegressor</label><div class=\"sk-toggleable__content\"><pre>XGBRegressor(base_score=None, booster=None, callbacks=None,\n",
       "             colsample_bylevel=None, colsample_bynode=None,\n",
       "             colsample_bytree=None, early_stopping_rounds=None,\n",
       "             enable_categorical=False, eval_metric=None, feature_types=None,\n",
       "             gamma=None, gpu_id=None, grow_policy=None, importance_type=None,\n",
       "             interaction_constraints=None, learning_rate=None, max_bin=None,\n",
       "             max_cat_threshold=None, max_cat_to_onehot=None,\n",
       "             max_delta_step=None, max_depth=None, max_leaves=None,\n",
       "             min_child_weight=None, missing=nan, monotone_constraints=None,\n",
       "             n_estimators=100, n_jobs=None, num_parallel_tree=None,\n",
       "             predictor=None, random_state=None, ...)</pre></div></div></div></div></div></div></div></div></div></div>"
      ],
      "text/plain": [
       "GridSearchCV(cv=4,\n",
       "             estimator=XGBRegressor(base_score=None, booster=None,\n",
       "                                    callbacks=None, colsample_bylevel=None,\n",
       "                                    colsample_bynode=None,\n",
       "                                    colsample_bytree=None,\n",
       "                                    early_stopping_rounds=None,\n",
       "                                    enable_categorical=False, eval_metric=None,\n",
       "                                    feature_types=None, gamma=None, gpu_id=None,\n",
       "                                    grow_policy=None, importance_type=None,\n",
       "                                    interaction_constraints=None,\n",
       "                                    learning_rate=None, m...\n",
       "                                    max_depth=None, max_leaves=None,\n",
       "                                    min_child_weight=None, missing=nan,\n",
       "                                    monotone_constraints=None, n_estimators=100,\n",
       "                                    n_jobs=None, num_parallel_tree=None,\n",
       "                                    predictor=None, random_state=None, ...),\n",
       "             param_grid={'colsample_bytree': [0.3, 0.7],\n",
       "                         'learning_rate': [0.01, 0.1, 0.2, 0.5],\n",
       "                         'max_depth': [4, 5, 6], 'n_estimators': [100],\n",
       "                         'subsample': [0.2, 0.5, 0.8]},\n",
       "             scoring='neg_mean_squared_error', verbose=1)"
      ]
     },
     "execution_count": 66,
     "metadata": {},
     "output_type": "execute_result"
    }
   ],
   "source": [
    "grid\n"
   ]
  },
  {
   "cell_type": "code",
   "execution_count": 67,
   "id": "21a96a43",
   "metadata": {},
   "outputs": [
    {
     "name": "stdout",
     "output_type": "stream",
     "text": [
      "Best parameters found:  {'colsample_bytree': 0.3, 'learning_rate': 0.2, 'max_depth': 4, 'n_estimators': 100, 'subsample': 0.2}\n",
      "Lowest RMSE found:  0.01702111335907072\n"
     ]
    }
   ],
   "source": [
    "print(\"Best parameters found: \", grid.best_params_)\n",
    "print(\"Lowest RMSE found: \", np.sqrt(np.abs(grid.best_score_)))\n",
    "\n"
   ]
  },
  {
   "cell_type": "code",
   "execution_count": 68,
   "id": "ccc37f8e",
   "metadata": {},
   "outputs": [],
   "source": [
    "# gets pick the best model, no need for nestimators\n",
    "params = {\"objective\": \"reg:squarederror\", \n",
    "         'colsample_bytree': 0.3, \n",
    "          'learning_rate': 0.2, \n",
    "          'max_depth': 4, \n",
    "          'subsample': 0.2\n",
    "         }\n",
    "\n",
    "bst_grid = xgb.train(dtrain=train_matrix, params=params, num_boost_round=50)\n"
   ]
  },
  {
   "cell_type": "code",
   "execution_count": 69,
   "id": "688ceae8",
   "metadata": {},
   "outputs": [],
   "source": [
    "grid_prediction=bst_grid.predict(test_matrix)"
   ]
  },
  {
   "cell_type": "code",
   "execution_count": 70,
   "id": "d6527e0f",
   "metadata": {},
   "outputs": [
    {
     "data": {
      "text/plain": [
       "array([0.0006137 , 0.00238667, 0.00238667, 0.00171697, 0.00101665],\n",
       "      dtype=float32)"
      ]
     },
     "execution_count": 70,
     "metadata": {},
     "output_type": "execute_result"
    }
   ],
   "source": [
    "grid_prediction[0:5]"
   ]
  },
  {
   "cell_type": "code",
   "execution_count": 71,
   "id": "82f2d72e",
   "metadata": {},
   "outputs": [],
   "source": [
    "df_prediction['grid_prediction']=grid_prediction"
   ]
  },
  {
   "cell_type": "code",
   "execution_count": 72,
   "id": "278c7dc1",
   "metadata": {},
   "outputs": [
    {
     "name": "stdout",
     "output_type": "stream",
     "text": [
      "0.009227989218652885\n"
     ]
    }
   ],
   "source": [
    "print((mean_squared_error(grid_prediction, y_test, squared=False)))\n"
   ]
  },
  {
   "cell_type": "code",
   "execution_count": 74,
   "id": "736bcd12",
   "metadata": {},
   "outputs": [
    {
     "data": {
      "text/plain": [
       "<AxesSubplot:title={'center':'Feature importance'}, xlabel='F score', ylabel='Features'>"
      ]
     },
     "execution_count": 74,
     "metadata": {},
     "output_type": "execute_result"
    },
    {
     "data": {
      "image/png": "[encoded data removed]",
      "text/plain": [
       "<Figure size 640x480 with 1 Axes>"
      ]
     },
     "metadata": {},
     "output_type": "display_data"
    }
   ],
   "source": [
    "xgb.plot_importance(bst_grid)\n"
   ]
  },
  {
   "cell_type": "markdown",
   "id": "3781ae11",
   "metadata": {},
   "source": [
    "## Random Search Parameters\n"
   ]
  },
  {
   "cell_type": "code",
   "execution_count": 75,
   "id": "80323e6c",
   "metadata": {},
   "outputs": [],
   "source": [
    "params_random_search = {\n",
    "    'learning_rate': np.arange(0.01, 1.01, 0.01),\n",
    "    'n_estimators': [50, 100, 200],\n",
    "    'max_depth': range(2, 12),\n",
    "    'subsample': np.arange(0.02, 1.02, 0.02),\n",
    "    'colsample_bytree': [0.3, 0.5, 0.7,1],\n",
    "\n",
    "}\n"
   ]
  },
  {
   "cell_type": "code",
   "execution_count": 76,
   "id": "5779de65",
   "metadata": {},
   "outputs": [],
   "source": [
    "xg_random_reg = xgb.XGBRegressor(objective= \"reg:squarederror\")\n"
   ]
  },
  {
   "cell_type": "code",
   "execution_count": 77,
   "id": "75ca4995",
   "metadata": {},
   "outputs": [],
   "source": [
    "randomized_mse = RandomizedSearchCV(param_distributions=params_random_search, estimator=xg_random_reg,\n",
    "                                    scoring=\"neg_mean_squared_error\", n_iter=5, cv=4, verbose=1)\n"
   ]
  },
  {
   "cell_type": "code",
   "execution_count": 78,
   "id": "482c4ea9",
   "metadata": {},
   "outputs": [
    {
     "name": "stdout",
     "output_type": "stream",
     "text": [
      "Fitting 4 folds for each of 5 candidates, totalling 20 fits\n"
     ]
    },
    {
     "data": {
      "text/html": [
       "<style>#sk-container-id-6 {color: black;}#sk-container-id-6 pre{padding: 0;}#sk-container-id-6 div.sk-toggleable {background-color: white;}#sk-container-id-6 label.sk-toggleable__label {cursor: pointer;display: block;width: 100%;margin-bottom: 0;padding: 0.3em;box-sizing: border-box;text-align: center;}#sk-container-id-6 label.sk-toggleable__label-arrow:before {content: \"▸\";float: left;margin-right: 0.25em;color: #696969;}#sk-container-id-6 label.sk-toggleable__label-arrow:hover:before {color: black;}#sk-container-id-6 div.sk-estimator:hover label.sk-toggleable__label-arrow:before {color: black;}#sk-container-id-6 div.sk-toggleable__content {max-height: 0;max-width: 0;overflow: hidden;text-align: left;background-color: #f0f8ff;}#sk-container-id-6 div.sk-toggleable__content pre {margin: 0.2em;color: black;border-radius: 0.25em;background-color: #f0f8ff;}#sk-container-id-6 input.sk-toggleable__control:checked~div.sk-toggleable__content {max-height: 200px;max-width: 100%;overflow: auto;}#sk-container-id-6 input.sk-toggleable__control:checked~label.sk-toggleable__label-arrow:before {content: \"▾\";}#sk-container-id-6 div.sk-estimator input.sk-toggleable__control:checked~label.sk-toggleable__label {background-color: #d4ebff;}#sk-container-id-6 div.sk-label input.sk-toggleable__control:checked~label.sk-toggleable__label {background-color: #d4ebff;}#sk-container-id-6 input.sk-hidden--visually {border: 0;clip: rect(1px 1px 1px 1px);clip: rect(1px, 1px, 1px, 1px);height: 1px;margin: -1px;overflow: hidden;padding: 0;position: absolute;width: 1px;}#sk-container-id-6 div.sk-estimator {font-family: monospace;background-color: #f0f8ff;border: 1px dotted black;border-radius: 0.25em;box-sizing: border-box;margin-bottom: 0.5em;}#sk-container-id-6 div.sk-estimator:hover {background-color: #d4ebff;}#sk-container-id-6 div.sk-parallel-item::after {content: \"\";width: 100%;border-bottom: 1px solid gray;flex-grow: 1;}#sk-container-id-6 div.sk-label:hover label.sk-toggleable__label {background-color: #d4ebff;}#sk-container-id-6 div.sk-serial::before {content: \"\";position: absolute;border-left: 1px solid gray;box-sizing: border-box;top: 0;bottom: 0;left: 50%;z-index: 0;}#sk-container-id-6 div.sk-serial {display: flex;flex-direction: column;align-items: center;background-color: white;padding-right: 0.2em;padding-left: 0.2em;position: relative;}#sk-container-id-6 div.sk-item {position: relative;z-index: 1;}#sk-container-id-6 div.sk-parallel {display: flex;align-items: stretch;justify-content: center;background-color: white;position: relative;}#sk-container-id-6 div.sk-item::before, #sk-container-id-6 div.sk-parallel-item::before {content: \"\";position: absolute;border-left: 1px solid gray;box-sizing: border-box;top: 0;bottom: 0;left: 50%;z-index: -1;}#sk-container-id-6 div.sk-parallel-item {display: flex;flex-direction: column;z-index: 1;position: relative;background-color: white;}#sk-container-id-6 div.sk-parallel-item:first-child::after {align-self: flex-end;width: 50%;}#sk-container-id-6 div.sk-parallel-item:last-child::after {align-self: flex-start;width: 50%;}#sk-container-id-6 div.sk-parallel-item:only-child::after {width: 0;}#sk-container-id-6 div.sk-dashed-wrapped {border: 1px dashed gray;margin: 0 0.4em 0.5em 0.4em;box-sizing: border-box;padding-bottom: 0.4em;background-color: white;}#sk-container-id-6 div.sk-label label {font-family: monospace;font-weight: bold;display: inline-block;line-height: 1.2em;}#sk-container-id-6 div.sk-label-container {text-align: center;}#sk-container-id-6 div.sk-container {/* jupyter's `normalize.less` sets `[hidden] { display: none; }` but bootstrap.min.css set `[hidden] { display: none !important; }` so we also need the `!important` here to be able to override the default hidden behavior on the sphinx rendered scikit-learn.org. See: https://github.com/scikit-learn/scikit-learn/issues/21755 */display: inline-block !important;position: relative;}#sk-container-id-6 div.sk-text-repr-fallback {display: none;}</style><div id=\"sk-container-id-6\" class=\"sk-top-container\"><div class=\"sk-text-repr-fallback\"><pre>RandomizedSearchCV(cv=4,\n",
       "                   estimator=XGBRegressor(base_score=None, booster=None,\n",
       "                                          callbacks=None,\n",
       "                                          colsample_bylevel=None,\n",
       "                                          colsample_bynode=None,\n",
       "                                          colsample_bytree=None,\n",
       "                                          early_stopping_rounds=None,\n",
       "                                          enable_categorical=False,\n",
       "                                          eval_metric=None, feature_types=None,\n",
       "                                          gamma=None, gpu_id=None,\n",
       "                                          grow_policy=None,\n",
       "                                          importance_type=None,\n",
       "                                          interaction_constraints=None,\n",
       "                                          learning_rate=...\n",
       "                                        &#x27;max_depth&#x27;: range(2, 12),\n",
       "                                        &#x27;n_estimators&#x27;: [50, 100, 200],\n",
       "                                        &#x27;subsample&#x27;: array([0.02, 0.04, 0.06, 0.08, 0.1 , 0.12, 0.14, 0.16, 0.18, 0.2 , 0.22,\n",
       "       0.24, 0.26, 0.28, 0.3 , 0.32, 0.34, 0.36, 0.38, 0.4 , 0.42, 0.44,\n",
       "       0.46, 0.48, 0.5 , 0.52, 0.54, 0.56, 0.58, 0.6 , 0.62, 0.64, 0.66,\n",
       "       0.68, 0.7 , 0.72, 0.74, 0.76, 0.78, 0.8 , 0.82, 0.84, 0.86, 0.88,\n",
       "       0.9 , 0.92, 0.94, 0.96, 0.98, 1.  ])},\n",
       "                   scoring=&#x27;neg_mean_squared_error&#x27;, verbose=1)</pre><b>In a Jupyter environment, please rerun this cell to show the HTML representation or trust the notebook. <br />On GitHub, the HTML representation is unable to render, please try loading this page with nbviewer.org.</b></div><div class=\"sk-container\" hidden><div class=\"sk-item sk-dashed-wrapped\"><div class=\"sk-label-container\"><div class=\"sk-label sk-toggleable\"><input class=\"sk-toggleable__control sk-hidden--visually\" id=\"sk-estimator-id-16\" type=\"checkbox\" ><label for=\"sk-estimator-id-16\" class=\"sk-toggleable__label sk-toggleable__label-arrow\">RandomizedSearchCV</label><div class=\"sk-toggleable__content\"><pre>RandomizedSearchCV(cv=4,\n",
       "                   estimator=XGBRegressor(base_score=None, booster=None,\n",
       "                                          callbacks=None,\n",
       "                                          colsample_bylevel=None,\n",
       "                                          colsample_bynode=None,\n",
       "                                          colsample_bytree=None,\n",
       "                                          early_stopping_rounds=None,\n",
       "                                          enable_categorical=False,\n",
       "                                          eval_metric=None, feature_types=None,\n",
       "                                          gamma=None, gpu_id=None,\n",
       "                                          grow_policy=None,\n",
       "                                          importance_type=None,\n",
       "                                          interaction_constraints=None,\n",
       "                                          learning_rate=...\n",
       "                                        &#x27;max_depth&#x27;: range(2, 12),\n",
       "                                        &#x27;n_estimators&#x27;: [50, 100, 200],\n",
       "                                        &#x27;subsample&#x27;: array([0.02, 0.04, 0.06, 0.08, 0.1 , 0.12, 0.14, 0.16, 0.18, 0.2 , 0.22,\n",
       "       0.24, 0.26, 0.28, 0.3 , 0.32, 0.34, 0.36, 0.38, 0.4 , 0.42, 0.44,\n",
       "       0.46, 0.48, 0.5 , 0.52, 0.54, 0.56, 0.58, 0.6 , 0.62, 0.64, 0.66,\n",
       "       0.68, 0.7 , 0.72, 0.74, 0.76, 0.78, 0.8 , 0.82, 0.84, 0.86, 0.88,\n",
       "       0.9 , 0.92, 0.94, 0.96, 0.98, 1.  ])},\n",
       "                   scoring=&#x27;neg_mean_squared_error&#x27;, verbose=1)</pre></div></div></div><div class=\"sk-parallel\"><div class=\"sk-parallel-item\"><div class=\"sk-item\"><div class=\"sk-label-container\"><div class=\"sk-label sk-toggleable\"><input class=\"sk-toggleable__control sk-hidden--visually\" id=\"sk-estimator-id-17\" type=\"checkbox\" ><label for=\"sk-estimator-id-17\" class=\"sk-toggleable__label sk-toggleable__label-arrow\">estimator: XGBRegressor</label><div class=\"sk-toggleable__content\"><pre>XGBRegressor(base_score=None, booster=None, callbacks=None,\n",
       "             colsample_bylevel=None, colsample_bynode=None,\n",
       "             colsample_bytree=None, early_stopping_rounds=None,\n",
       "             enable_categorical=False, eval_metric=None, feature_types=None,\n",
       "             gamma=None, gpu_id=None, grow_policy=None, importance_type=None,\n",
       "             interaction_constraints=None, learning_rate=None, max_bin=None,\n",
       "             max_cat_threshold=None, max_cat_to_onehot=None,\n",
       "             max_delta_step=None, max_depth=None, max_leaves=None,\n",
       "             min_child_weight=None, missing=nan, monotone_constraints=None,\n",
       "             n_estimators=100, n_jobs=None, num_parallel_tree=None,\n",
       "             predictor=None, random_state=None, ...)</pre></div></div></div><div class=\"sk-serial\"><div class=\"sk-item\"><div class=\"sk-estimator sk-toggleable\"><input class=\"sk-toggleable__control sk-hidden--visually\" id=\"sk-estimator-id-18\" type=\"checkbox\" ><label for=\"sk-estimator-id-18\" class=\"sk-toggleable__label sk-toggleable__label-arrow\">XGBRegressor</label><div class=\"sk-toggleable__content\"><pre>XGBRegressor(base_score=None, booster=None, callbacks=None,\n",
       "             colsample_bylevel=None, colsample_bynode=None,\n",
       "             colsample_bytree=None, early_stopping_rounds=None,\n",
       "             enable_categorical=False, eval_metric=None, feature_types=None,\n",
       "             gamma=None, gpu_id=None, grow_policy=None, importance_type=None,\n",
       "             interaction_constraints=None, learning_rate=None, max_bin=None,\n",
       "             max_cat_threshold=None, max_cat_to_onehot=None,\n",
       "             max_delta_step=None, max_depth=None, max_leaves=None,\n",
       "             min_child_weight=None, missing=nan, monotone_constraints=None,\n",
       "             n_estimators=100, n_jobs=None, num_parallel_tree=None,\n",
       "             predictor=None, random_state=None, ...)</pre></div></div></div></div></div></div></div></div></div></div>"
      ],
      "text/plain": [
       "RandomizedSearchCV(cv=4,\n",
       "                   estimator=XGBRegressor(base_score=None, booster=None,\n",
       "                                          callbacks=None,\n",
       "                                          colsample_bylevel=None,\n",
       "                                          colsample_bynode=None,\n",
       "                                          colsample_bytree=None,\n",
       "                                          early_stopping_rounds=None,\n",
       "                                          enable_categorical=False,\n",
       "                                          eval_metric=None, feature_types=None,\n",
       "                                          gamma=None, gpu_id=None,\n",
       "                                          grow_policy=None,\n",
       "                                          importance_type=None,\n",
       "                                          interaction_constraints=None,\n",
       "                                          learning_rate=...\n",
       "                                        'max_depth': range(2, 12),\n",
       "                                        'n_estimators': [50, 100, 200],\n",
       "                                        'subsample': array([0.02, 0.04, 0.06, 0.08, 0.1 , 0.12, 0.14, 0.16, 0.18, 0.2 , 0.22,\n",
       "       0.24, 0.26, 0.28, 0.3 , 0.32, 0.34, 0.36, 0.38, 0.4 , 0.42, 0.44,\n",
       "       0.46, 0.48, 0.5 , 0.52, 0.54, 0.56, 0.58, 0.6 , 0.62, 0.64, 0.66,\n",
       "       0.68, 0.7 , 0.72, 0.74, 0.76, 0.78, 0.8 , 0.82, 0.84, 0.86, 0.88,\n",
       "       0.9 , 0.92, 0.94, 0.96, 0.98, 1.  ])},\n",
       "                   scoring='neg_mean_squared_error', verbose=1)"
      ]
     },
     "execution_count": 78,
     "metadata": {},
     "output_type": "execute_result"
    }
   ],
   "source": [
    "randomized_mse.fit(X_train, y_train)\n"
   ]
  },
  {
   "cell_type": "code",
   "execution_count": 79,
   "id": "691f3058",
   "metadata": {},
   "outputs": [
    {
     "name": "stdout",
     "output_type": "stream",
     "text": [
      "Randomize Search Cross Validation\n",
      "Best parameters found:  {'subsample': 0.04, 'n_estimators': 100, 'max_depth': 5, 'learning_rate': 0.13, 'colsample_bytree': 0.3}\n",
      "Lowest RMSE found:  0.017303117188006527\n"
     ]
    }
   ],
   "source": [
    "print(\"Randomize Search Cross Validation\")\n",
    "print(\"Best parameters found: \", randomized_mse.best_params_)\n",
    "print(\"Lowest RMSE found: \", np.sqrt(np.abs(randomized_mse.best_score_)))\n"
   ]
  },
  {
   "cell_type": "code",
   "execution_count": 80,
   "id": "003faa45",
   "metadata": {},
   "outputs": [],
   "source": [
    "# gets pick the best model, no need for nestimators\n",
    "params = {\"objective\": \"reg:squarederror\", \n",
    "         'subsample': 0.30000000000000004,  'max_depth': 6, 'learning_rate': 0.17, 'colsample_bytree': 0.7\n",
    "         }\n",
    "\n",
    "bst_random = xgb.train(dtrain=train_matrix, params=params, num_boost_round=50)"
   ]
  },
  {
   "cell_type": "code",
   "execution_count": 81,
   "id": "308cfee9",
   "metadata": {},
   "outputs": [],
   "source": [
    "random_prediction=bst_random.predict(test_matrix)"
   ]
  },
  {
   "cell_type": "code",
   "execution_count": 82,
   "id": "8a33057d",
   "metadata": {},
   "outputs": [],
   "source": [
    "df_prediction['random_prediction']=random_prediction"
   ]
  },
  {
   "cell_type": "code",
   "execution_count": 83,
   "id": "5dc10a0e",
   "metadata": {
    "scrolled": true
   },
   "outputs": [
    {
     "name": "stdout",
     "output_type": "stream",
     "text": [
      "0.009351405571925205\n"
     ]
    }
   ],
   "source": [
    "print((mean_squared_error(random_prediction, y_test, squared=False)))\n"
   ]
  },
  {
   "cell_type": "code",
   "execution_count": 84,
   "id": "230b5145",
   "metadata": {},
   "outputs": [
    {
     "data": {
      "text/plain": [
       "<AxesSubplot:title={'center':'Feature importance'}, xlabel='F score', ylabel='Features'>"
      ]
     },
     "execution_count": 84,
     "metadata": {},
     "output_type": "execute_result"
    },
    {
     "data": {
      "image/png": "[encoded data removed]",
      "text/plain": [
       "<Figure size 640x480 with 1 Axes>"
      ]
     },
     "metadata": {},
     "output_type": "display_data"
    }
   ],
   "source": [
    "xgb.plot_importance(bst_random)"
   ]
  },
  {
   "cell_type": "code",
   "execution_count": 85,
   "id": "f09af571",
   "metadata": {},
   "outputs": [],
   "source": [
    "df_prediction.to_csv(\"prediction_output.csv\")"
   ]
  },
  {
   "cell_type": "code",
   "execution_count": null,
   "id": "06b46a18",
   "metadata": {},
   "outputs": [],
   "source": []
  }
 ],
 "metadata": {
  "kernelspec": {
   "display_name": "Python 3 (ipykernel)",
   "language": "python",
   "name": "python3"
  },
  "language_info": {
   "codemirror_mode": {
    "name": "ipython",
    "version": 3
   },
   "file_extension": ".py",
   "mimetype": "text/x-python",
   "name": "python",
   "nbconvert_exporter": "python",
   "pygments_lexer": "ipython3",
   "version": "3.8.9"
  }
 },
 "nbformat": 4,
 "nbformat_minor": 5
}
