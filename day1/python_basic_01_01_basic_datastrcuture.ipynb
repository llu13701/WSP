{
 "cells": [
  {
   "cell_type": "code",
   "execution_count": 5,
   "id": "c5260e4d",
   "metadata": {},
   "outputs": [],
   "source": [
    "# data structure\n"
   ]
  },
  {
   "cell_type": "code",
   "execution_count": 9,
   "id": "611077d0",
   "metadata": {},
   "outputs": [
    {
     "name": "stdout",
     "output_type": "stream",
     "text": [
      "5\n",
      "1\n"
     ]
    }
   ],
   "source": [
    "print (3+2)\n",
    "print (5%2)\n"
   ]
  },
  {
   "cell_type": "code",
   "execution_count": 10,
   "id": "33130dd6",
   "metadata": {},
   "outputs": [],
   "source": [
    "#varaible assignments"
   ]
  },
  {
   "cell_type": "code",
   "execution_count": 18,
   "id": "1c3cdd11",
   "metadata": {},
   "outputs": [],
   "source": [
    "number_of_varaibles=2"
   ]
  },
  {
   "cell_type": "code",
   "execution_count": 15,
   "id": "5dadfba5",
   "metadata": {},
   "outputs": [
    {
     "name": "stdout",
     "output_type": "stream",
     "text": [
      "Double quote\n",
      "I can't swim\n"
     ]
    }
   ],
   "source": [
    "#strings\n",
    "print (\"Double quote\")\n",
    "print(\"I can't swim\")"
   ]
  },
  {
   "cell_type": "code",
   "execution_count": 6,
   "id": "3c63c778",
   "metadata": {},
   "outputs": [
    {
     "name": "stdout",
     "output_type": "stream",
     "text": [
      "my dog name is wally wow\n"
     ]
    }
   ],
   "source": [
    "name='wally'\n",
    "age=10\n",
    "last_name='wow'\n",
    "print (\"my dog name is\",name,last_name)"
   ]
  },
  {
   "cell_type": "code",
   "execution_count": null,
   "id": "d851c0ef",
   "metadata": {},
   "outputs": [],
   "source": [
    "print (\"my dog name is {} and he is {}\".format(name, age))"
   ]
  },
  {
   "cell_type": "code",
   "execution_count": 17,
   "id": "4a93980b",
   "metadata": {},
   "outputs": [],
   "source": [
    "#list: python form of array"
   ]
  },
  {
   "cell_type": "code",
   "execution_count": 8,
   "id": "d763507f",
   "metadata": {},
   "outputs": [],
   "source": [
    "list_a=[0, 1, 2]\n",
    "list_b=['hello', 1, 'red']"
   ]
  },
  {
   "cell_type": "code",
   "execution_count": 9,
   "id": "ba17972e",
   "metadata": {
    "scrolled": true
   },
   "outputs": [
    {
     "name": "stdout",
     "output_type": "stream",
     "text": [
      "['hello', 1]\n",
      "['red']\n"
     ]
    }
   ],
   "source": [
    "#slicing\n",
    "print(list_b[0:2])\n",
    "print(list_b[-1:])"
   ]
  },
  {
   "cell_type": "code",
   "execution_count": 10,
   "id": "830363fd",
   "metadata": {},
   "outputs": [
    {
     "data": {
      "text/plain": [
       "[0, 1, 2, 'not a number']"
      ]
     },
     "execution_count": 10,
     "metadata": {},
     "output_type": "execute_result"
    }
   ],
   "source": [
    "list_a.append('not a number')\n",
    "list_a"
   ]
  },
  {
   "cell_type": "code",
   "execution_count": 53,
   "id": "c06e4ae6",
   "metadata": {},
   "outputs": [
    {
     "data": {
      "text/plain": [
       "True"
      ]
     },
     "execution_count": 53,
     "metadata": {},
     "output_type": "execute_result"
    }
   ],
   "source": [
    "'red' in list_b  #using in to check if something is in the list"
   ]
  },
  {
   "cell_type": "code",
   "execution_count": 18,
   "id": "a0c5bfd0",
   "metadata": {},
   "outputs": [
    {
     "name": "stdout",
     "output_type": "stream",
     "text": [
      "{'name': 'Alice', 'age': 20, 'courses': ['Math', 'Computer Science']}\n",
      "Alice\n"
     ]
    }
   ],
   "source": [
    "#dictionary\n",
    "student = {\n",
    "    \"name\": \"Alice\",\n",
    "    \"age\": 20,\n",
    "    \"courses\": [\"Math\", \"Computer Science\"]\n",
    "}\n",
    "\n",
    "print(student)\n",
    "print (student['name']) #because dictionary is not ordered\n",
    "\n"
   ]
  },
  {
   "cell_type": "code",
   "execution_count": 19,
   "id": "3643f5f1",
   "metadata": {},
   "outputs": [
    {
     "name": "stdout",
     "output_type": "stream",
     "text": [
      "3\n",
      "dict_keys(['name', 'age', 'courses'])\n",
      "dict_items([('name', 'Alice'), ('age', 20), ('courses', ['Math', 'Computer Science'])])\n"
     ]
    }
   ],
   "source": [
    "print (len(student))\n",
    "print(student.keys())\n",
    "print(student.items())"
   ]
  },
  {
   "cell_type": "code",
   "execution_count": 20,
   "id": "8e743dd8",
   "metadata": {},
   "outputs": [
    {
     "name": "stdout",
     "output_type": "stream",
     "text": [
      "{'name': 'Marry', 'age': 20, 'courses': ['Math', 'Computer Science']}\n"
     ]
    }
   ],
   "source": [
    "#update the value\n",
    "student['name']='Marry'\n",
    "print (student)"
   ]
  },
  {
   "cell_type": "code",
   "execution_count": 21,
   "id": "b0ecbaf8",
   "metadata": {},
   "outputs": [
    {
     "name": "stdout",
     "output_type": "stream",
     "text": [
      "{'name': 'Marry', 'age': 20, 'courses': ['Math', 'Computer Science'], 'gender': 'female'}\n"
     ]
    }
   ],
   "source": [
    "#dictionary can add more values\n",
    "student['gender']='female'\n",
    "print (student)"
   ]
  },
  {
   "cell_type": "code",
   "execution_count": 34,
   "id": "21aff834",
   "metadata": {},
   "outputs": [],
   "source": [
    "#tuples"
   ]
  },
  {
   "cell_type": "code",
   "execution_count": 37,
   "id": "041ecaaf",
   "metadata": {},
   "outputs": [
    {
     "name": "stdout",
     "output_type": "stream",
     "text": [
      "1\n",
      "1\n"
     ]
    }
   ],
   "source": [
    "t=(1,2,3)\n",
    "list_a=[1,2,3]\n",
    "print (t[0])\n",
    "print (list_a[0])"
   ]
  },
  {
   "cell_type": "code",
   "execution_count": 39,
   "id": "65d911e5",
   "metadata": {},
   "outputs": [
    {
     "ename": "AttributeError",
     "evalue": "'tuple' object has no attribute 'append'",
     "output_type": "error",
     "traceback": [
      "\u001b[0;31m---------------------------------------------------------------------------\u001b[0m",
      "\u001b[0;31mAttributeError\u001b[0m                            Traceback (most recent call last)",
      "Input \u001b[0;32mIn [39]\u001b[0m, in \u001b[0;36m<cell line: 1>\u001b[0;34m()\u001b[0m\n\u001b[0;32m----> 1\u001b[0m \u001b[43mt\u001b[49m\u001b[38;5;241;43m.\u001b[39;49m\u001b[43mappend\u001b[49m(\u001b[38;5;241m4\u001b[39m)\n",
      "\u001b[0;31mAttributeError\u001b[0m: 'tuple' object has no attribute 'append'"
     ]
    }
   ],
   "source": [
    "t.append(4) #tuple is immutable"
   ]
  },
  {
   "cell_type": "code",
   "execution_count": 40,
   "id": "d04e12a9",
   "metadata": {},
   "outputs": [
    {
     "name": "stdout",
     "output_type": "stream",
     "text": [
      "{3, 4, 5, 6, 7, 8}\n"
     ]
    }
   ],
   "source": [
    "print (set([3,3,4,5,6,6,7,8,8]))"
   ]
  },
  {
   "cell_type": "code",
   "execution_count": 44,
   "id": "fb62b948",
   "metadata": {},
   "outputs": [
    {
     "name": "stdout",
     "output_type": "stream",
     "text": [
      "h\n"
     ]
    }
   ],
   "source": [
    "random_name=\"hello there\"\n",
    "print (random_name[0])"
   ]
  },
  {
   "cell_type": "code",
   "execution_count": 15,
   "id": "a8158d9b",
   "metadata": {},
   "outputs": [
    {
     "data": {
      "text/plain": [
       "3"
      ]
     },
     "execution_count": 15,
     "metadata": {},
     "output_type": "execute_result"
    }
   ],
   "source": [
    "range(10)\n",
    "range(10)[3]"
   ]
  },
  {
   "cell_type": "code",
   "execution_count": 14,
   "id": "de5b7ce6",
   "metadata": {},
   "outputs": [
    {
     "data": {
      "text/plain": [
       "9"
      ]
     },
     "execution_count": 14,
     "metadata": {},
     "output_type": "execute_result"
    }
   ],
   "source": [
    "number_list=range(3,10,3)\n",
    "number_list[2]"
   ]
  },
  {
   "cell_type": "code",
   "execution_count": 22,
   "id": "21fc0bb6",
   "metadata": {},
   "outputs": [
    {
     "name": "stdout",
     "output_type": "stream",
     "text": [
      "The Zen of Python, by Tim Peters\n",
      "\n",
      "Beautiful is better than ugly.\n",
      "Explicit is better than implicit.\n",
      "Simple is better than complex.\n",
      "Complex is better than complicated.\n",
      "Flat is better than nested.\n",
      "Sparse is better than dense.\n",
      "Readability counts.\n",
      "Special cases aren't special enough to break the rules.\n",
      "Although practicality beats purity.\n",
      "Errors should never pass silently.\n",
      "Unless explicitly silenced.\n",
      "In the face of ambiguity, refuse the temptation to guess.\n",
      "There should be one-- and preferably only one --obvious way to do it.\n",
      "Although that way may not be obvious at first unless you're Dutch.\n",
      "Now is better than never.\n",
      "Although never is often better than *right* now.\n",
      "If the implementation is hard to explain, it's a bad idea.\n",
      "If the implementation is easy to explain, it may be a good idea.\n",
      "Namespaces are one honking great idea -- let's do more of those!\n"
     ]
    }
   ],
   "source": [
    "import this"
   ]
  },
  {
   "cell_type": "code",
   "execution_count": null,
   "id": "d89c2b07",
   "metadata": {},
   "outputs": [],
   "source": []
  }
 ],
 "metadata": {
  "kernelspec": {
   "display_name": "Python 3 (ipykernel)",
   "language": "python",
   "name": "python3"
  },
  "language_info": {
   "codemirror_mode": {
    "name": "ipython",
    "version": 3
   },
   "file_extension": ".py",
   "mimetype": "text/x-python",
   "name": "python",
   "nbconvert_exporter": "python",
   "pygments_lexer": "ipython3",
   "version": "3.8.13"
  }
 },
 "nbformat": 4,
 "nbformat_minor": 5
}
