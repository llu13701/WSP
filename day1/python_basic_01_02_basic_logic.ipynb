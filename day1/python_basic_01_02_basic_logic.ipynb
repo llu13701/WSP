{
 "cells": [
  {
   "cell_type": "markdown",
   "id": "e3cbaeb3",
   "metadata": {},
   "source": [
    "1. comparison operator\n",
    "2. logic operator\n",
    "3. for loops with range\n",
    "4. whilte loops\n",
    "5. list comprehension"
   ]
  },
  {
   "cell_type": "markdown",
   "id": "9a63b94f",
   "metadata": {},
   "source": [
    "**comparison operator**"
   ]
  },
  {
   "cell_type": "code",
   "execution_count": 12,
   "id": "1644db51",
   "metadata": {},
   "outputs": [
    {
     "name": "stdout",
     "output_type": "stream",
     "text": [
      "True\n",
      "True\n"
     ]
    }
   ],
   "source": [
    "print(10 < 20)\n",
    "print (10<=10)"
   ]
  },
  {
   "cell_type": "code",
   "execution_count": 13,
   "id": "afd01ee8",
   "metadata": {},
   "outputs": [
    {
     "name": "stdout",
     "output_type": "stream",
     "text": [
      "True\n",
      "True\n",
      "True\n"
     ]
    }
   ],
   "source": [
    "print ('apple'<'banana')\n",
    "print('apple'=='apple')\n",
    "print ('apple'!='banana')"
   ]
  },
  {
   "cell_type": "code",
   "execution_count": 4,
   "id": "24904a36",
   "metadata": {},
   "outputs": [
    {
     "data": {
      "text/plain": [
       "True"
      ]
     },
     "execution_count": 4,
     "metadata": {},
     "output_type": "execute_result"
    }
   ],
   "source": [
    "50 == 2*25"
   ]
  },
  {
   "cell_type": "code",
   "execution_count": 5,
   "id": "fe416e25",
   "metadata": {
    "scrolled": true
   },
   "outputs": [
    {
     "data": {
      "text/plain": [
       "True"
      ]
     },
     "execution_count": 5,
     "metadata": {},
     "output_type": "execute_result"
    }
   ],
   "source": [
    "[1,2,3] < [1,2,4]  #because 3 is smller than 4"
   ]
  },
  {
   "cell_type": "markdown",
   "id": "c4f68592",
   "metadata": {},
   "source": [
    "**logic operator**"
   ]
  },
  {
   "cell_type": "markdown",
   "id": "a9e48cd7",
   "metadata": {},
   "source": [
    "**and**: \n",
    "1. T and T => T\n",
    "2. T and F => F\n",
    "3. F and F => F"
   ]
  },
  {
   "cell_type": "code",
   "execution_count": null,
   "id": "88810ede",
   "metadata": {},
   "outputs": [],
   "source": [
    "price = 9.99\n",
    "print(price > 9 and price < 10)\n",
    "print(price > 10 and price < 20)"
   ]
  },
  {
   "cell_type": "markdown",
   "id": "b97b9d21",
   "metadata": {},
   "source": [
    "**or**: \n",
    "1. T or T => T\n",
    "2. T or F => T\n",
    "3. F or F => F"
   ]
  },
  {
   "cell_type": "code",
   "execution_count": null,
   "id": "6439de22",
   "metadata": {},
   "outputs": [],
   "source": [
    "price = 9.99\n",
    "print(price > 9 or price < 10)\n",
    "print(price > 10 or price < 20)"
   ]
  },
  {
   "cell_type": "code",
   "execution_count": 19,
   "id": "eba5e230",
   "metadata": {},
   "outputs": [
    {
     "data": {
      "text/plain": [
       "False"
      ]
     },
     "execution_count": 19,
     "metadata": {},
     "output_type": "execute_result"
    }
   ],
   "source": [
    "#not\n",
    "not True"
   ]
  },
  {
   "cell_type": "markdown",
   "id": "6817cda2",
   "metadata": {},
   "source": [
    "#precedent of logocal operator\n",
    "\n",
    "#Operator\tPrecedence\n",
    "#not\tHigh\n",
    "#and\tMedium\n",
    "#or\tLow\n"
   ]
  },
  {
   "cell_type": "code",
   "execution_count": 23,
   "id": "31305bef",
   "metadata": {
    "scrolled": true
   },
   "outputs": [
    {
     "name": "stdout",
     "output_type": "stream",
     "text": [
      "True\n"
     ]
    }
   ],
   "source": [
    "print (True or False and False)"
   ]
  },
  {
   "cell_type": "code",
   "execution_count": 24,
   "id": "3abc34f0",
   "metadata": {},
   "outputs": [
    {
     "name": "stdout",
     "output_type": "stream",
     "text": [
      "True\n"
     ]
    }
   ],
   "source": [
    "print (True and True or False and False)"
   ]
  },
  {
   "cell_type": "code",
   "execution_count": 25,
   "id": "f4578e52",
   "metadata": {},
   "outputs": [
    {
     "name": "stdout",
     "output_type": "stream",
     "text": [
      "True\n"
     ]
    }
   ],
   "source": [
    "print (not False and False or True)"
   ]
  },
  {
   "cell_type": "markdown",
   "id": "ef57a5f3",
   "metadata": {},
   "source": [
    "**if loops**"
   ]
  },
  {
   "cell_type": "code",
   "execution_count": 32,
   "id": "10dc5d05",
   "metadata": {},
   "outputs": [
    {
     "name": "stdout",
     "output_type": "stream",
     "text": [
      "Enter your age:15\n",
      "Need parental control, but you can have a facebook account\n"
     ]
    }
   ],
   "source": [
    "age = input('Enter your age:')\n",
    "\n",
    "if int(age) >= 18:\n",
    "    print(\"Internet is a free space for you.\")\n",
    "elif int(age)>13:\n",
    "    print (\"Need parental control, but you can have a facebook account\")\n",
    "else:\n",
    "    print (\"really too young for the internet\")"
   ]
  },
  {
   "cell_type": "code",
   "execution_count": 37,
   "id": "26a33353",
   "metadata": {},
   "outputs": [
    {
     "name": "stdout",
     "output_type": "stream",
     "text": [
      "Enter your age:80\n",
      "Internet is a free space for you.\n"
     ]
    }
   ],
   "source": [
    "# try and except\n",
    "\n",
    "age = input('Enter your age:')\n",
    "\n",
    "try:\n",
    "    if int(age) >= 18:\n",
    "        print(\"Internet is a free space for you.\")\n",
    "    elif int(age)>13:\n",
    "        print (\"Need parental control, but you can have a facebook account\")\n",
    "    else:\n",
    "        print (\"really too young for the internet\")\n",
    "except:\n",
    "    print (\"something went wrong, here is the raw input: {}\".format(age))"
   ]
  },
  {
   "cell_type": "code",
   "execution_count": 3,
   "id": "5ba9ba70",
   "metadata": {},
   "outputs": [
    {
     "name": "stdout",
     "output_type": "stream",
     "text": [
      "Go to work\n"
     ]
    }
   ],
   "source": [
    "day='Saturday'\n",
    "if day == \"Sunday\":\n",
    "    print(\"Sleep in\")\n",
    "else:\n",
    "    print(\"Go to work\")"
   ]
  },
  {
   "cell_type": "code",
   "execution_count": 1,
   "id": "e0956581",
   "metadata": {},
   "outputs": [
    {
     "name": "stdout",
     "output_type": "stream",
     "text": [
      "The square of 0 is 0.\n",
      "The square of 1 is 1.\n",
      "The square of 2 is 4.\n",
      "The square of 3 is 9.\n",
      "The square of 4 is 16.\n",
      "The square of 5 is 25.\n",
      "The square of 6 is 36.\n",
      "The square of 7 is 49.\n",
      "The square of 8 is 64.\n",
      "The square of 9 is 81.\n",
      "The square of 10 is 100.\n",
      "The square of 11 is 121.\n",
      "The square of 12 is 144.\n",
      "The square of 13 is 169.\n",
      "The square of 14 is 196.\n",
      "The square of 15 is 225.\n",
      "The square of 16 is 256.\n",
      "The square of 17 is 289.\n",
      "The square of 18 is 324.\n",
      "The square of 19 is 361.\n"
     ]
    }
   ],
   "source": [
    "#for loop with range\n",
    "for i in range(20):\n",
    "    print(\"The square of {} is {}.\".format(i, i*i))"
   ]
  },
  {
   "cell_type": "code",
   "execution_count": 47,
   "id": "171e9701",
   "metadata": {},
   "outputs": [
    {
     "name": "stdout",
     "output_type": "stream",
     "text": [
      "0\n",
      "2\n",
      "4\n",
      "6\n",
      "8\n",
      "20\n"
     ]
    }
   ],
   "source": [
    "sum=0\n",
    "for index in range(0, 10, 2): #in step of 2\n",
    "    print (index)\n",
    "    sum+=index  #sum=sum+index\n",
    "print (sum)"
   ]
  },
  {
   "cell_type": "code",
   "execution_count": 2,
   "id": "9bb3df18",
   "metadata": {},
   "outputs": [
    {
     "name": "stdout",
     "output_type": "stream",
     "text": [
      "S\n",
      "u\n",
      "n\n",
      "d\n",
      "a\n",
      "y\n"
     ]
    }
   ],
   "source": [
    "for letter in \"Sunday\":\n",
    "    print(letter)"
   ]
  },
  {
   "cell_type": "markdown",
   "id": "c7be6e1c",
   "metadata": {},
   "source": [
    "**while loops**"
   ]
  },
  {
   "cell_type": "code",
   "execution_count": 50,
   "id": "5e2b12c3",
   "metadata": {},
   "outputs": [
    {
     "name": "stdout",
     "output_type": "stream",
     "text": [
      ">hello\n",
      "Echo: hello\n",
      ">there yet?\n",
      "Echo: there yet?\n",
      ">no quitting\n",
      "Echo: no quitting\n",
      ">QUIT\n",
      "Echo: QUIT\n"
     ]
    }
   ],
   "source": [
    "command = ''\n",
    "\n",
    "while command.lower() != 'quit':\n",
    "    command = input('>')\n",
    "    print(f\"Echo: {command}\")\n",
    "\n"
   ]
  },
  {
   "cell_type": "markdown",
   "id": "d8243503",
   "metadata": {},
   "source": [
    "#break to terminate a for/while loop prematurly"
   ]
  },
  {
   "cell_type": "code",
   "execution_count": 52,
   "id": "4734eb64",
   "metadata": {
    "scrolled": true
   },
   "outputs": [
    {
     "name": "stdout",
     "output_type": "stream",
     "text": [
      "(0,0)\n",
      "(0,1)\n",
      "(1,0)\n",
      "(1,1)\n",
      "(2,0)\n",
      "(2,1)\n",
      "(3,0)\n",
      "(3,1)\n",
      "(4,0)\n",
      "(4,1)\n"
     ]
    }
   ],
   "source": [
    "for x in range(5):\n",
    "    for y in range(5):\n",
    "        if y > 1:\n",
    "            break\n",
    "        # show coordinates on the screen\n",
    "        print(f\"({x},{y})\")"
   ]
  },
  {
   "cell_type": "markdown",
   "id": "4e8ab984",
   "metadata": {},
   "source": [
    "**list comprehension**"
   ]
  },
  {
   "cell_type": "code",
   "execution_count": 57,
   "id": "aea7caf6",
   "metadata": {},
   "outputs": [
    {
     "name": "stdout",
     "output_type": "stream",
     "text": [
      "['apple', 'banana', 'mango']\n"
     ]
    }
   ],
   "source": [
    "fruits = [\"apple\", \"banana\", \"cherry\", \"kiwi\", \"mango\"]\n",
    "\n",
    "#newlist = [expression for item in iterable if condition == True]\n",
    "\n",
    "newlist = []\n",
    "for x in fruits:\n",
    "  if \"a\" in x:\n",
    "    newlist.append(x)\n",
    "\n",
    "print(newlist)\n"
   ]
  },
  {
   "cell_type": "code",
   "execution_count": 58,
   "id": "f00fecdf",
   "metadata": {},
   "outputs": [
    {
     "name": "stdout",
     "output_type": "stream",
     "text": [
      "['apple', 'banana', 'mango']\n"
     ]
    }
   ],
   "source": [
    "newlist=[x for x in fruits if 'a' in x]\n",
    "print (newlist)"
   ]
  },
  {
   "cell_type": "code",
   "execution_count": 59,
   "id": "14eff2e0",
   "metadata": {},
   "outputs": [
    {
     "name": "stdout",
     "output_type": "stream",
     "text": [
      "['APPLE', 'BANANA', 'MANGO']\n"
     ]
    }
   ],
   "source": [
    "new_cap_list=[x.upper() for x in fruits if 'a' in x]\n",
    "print (new_cap_list)"
   ]
  },
  {
   "cell_type": "code",
   "execution_count": null,
   "id": "b0b3f201",
   "metadata": {},
   "outputs": [],
   "source": []
  }
 ],
 "metadata": {
  "kernelspec": {
   "display_name": "Python 3 (ipykernel)",
   "language": "python",
   "name": "python3"
  },
  "language_info": {
   "codemirror_mode": {
    "name": "ipython",
    "version": 3
   },
   "file_extension": ".py",
   "mimetype": "text/x-python",
   "name": "python",
   "nbconvert_exporter": "python",
   "pygments_lexer": "ipython3",
   "version": "3.8.13"
  }
 },
 "nbformat": 4,
 "nbformat_minor": 5
}
