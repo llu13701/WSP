{
 "cells": [
  {
   "cell_type": "markdown",
   "id": "2b00ddca",
   "metadata": {},
   "source": [
    "1. functions\n",
    "2. lamba expression\n",
    "3. map and filter\n",
    "4. string operation\n"
   ]
  },
  {
   "cell_type": "markdown",
   "id": "8c83c253",
   "metadata": {},
   "source": [
    "**Function**\n"
   ]
  },
  {
   "cell_type": "code",
   "execution_count": 14,
   "id": "f959a112",
   "metadata": {
    "scrolled": true
   },
   "outputs": [],
   "source": [
    "def my_func(param=3):\n",
    "    \"\"\"\n",
    "    Docstring goes here\n",
    "    \"\"\"\n",
    "    #print (param)\n",
    "    return param*5\n"
   ]
  },
  {
   "cell_type": "code",
   "execution_count": 17,
   "id": "1b4dc65f",
   "metadata": {},
   "outputs": [
    {
     "name": "stdout",
     "output_type": "stream",
     "text": [
      "15\n",
      "25\n"
     ]
    }
   ],
   "source": [
    "z1=my_func() #try it with shift+tab\n",
    "print (z)  \n",
    "\n",
    "z2=my_func(5)\n",
    "print(z2)"
   ]
  },
  {
   "cell_type": "markdown",
   "id": "5034199b",
   "metadata": {},
   "source": [
    "**What does this functon do?**"
   ]
  },
  {
   "cell_type": "code",
   "execution_count": 1,
   "id": "0e3d54a6",
   "metadata": {},
   "outputs": [],
   "source": [
    "def fibonacci(sequence_length):\n",
    "    \"Return the Fibonacci sequence of length *sequence_length*\"\n",
    "    sequence = [0,1]\n",
    "    if sequence_length < 1:\n",
    "        print(\"Fibonacci sequence only defined for length 1 or greater\")\n",
    "        return\n",
    "    if 0 < sequence_length < 3:\n",
    "        return sequence[:sequence_length]\n",
    "    for i in range(2,sequence_length): \n",
    "        sequence.append(sequence[i-1]+sequence[i-2])\n",
    "    return sequence\n"
   ]
  },
  {
   "cell_type": "markdown",
   "id": "0c397622",
   "metadata": {},
   "source": [
    "**How to import a function**"
   ]
  },
  {
   "cell_type": "code",
   "execution_count": 2,
   "id": "e3a40e28",
   "metadata": {},
   "outputs": [
    {
     "name": "stdout",
     "output_type": "stream",
     "text": [
      "Help on built-in function factorial in module math:\n",
      "\n",
      "factorial(x, /)\n",
      "    Find x!.\n",
      "    \n",
      "    Raise a ValueError if x is negative or non-integral.\n",
      "\n"
     ]
    }
   ],
   "source": [
    "from math import factorial\n",
    "help(factorial)  #n!=n(n-1)(n-2)(n-3)...1\n"
   ]
  },
  {
   "cell_type": "markdown",
   "id": "2d4483fd",
   "metadata": {},
   "source": [
    "**2, 3 Lambda, map & filter**"
   ]
  },
  {
   "cell_type": "code",
   "execution_count": 19,
   "id": "e1e31228",
   "metadata": {},
   "outputs": [
    {
     "data": {
      "text/plain": [
       "<function __main__.<lambda>(var)>"
      ]
     },
     "execution_count": 19,
     "metadata": {},
     "output_type": "execute_result"
    }
   ],
   "source": [
    "def times2(var):\n",
    "    return var*2\n",
    "\n",
    "lambda var:var*2"
   ]
  },
  {
   "cell_type": "markdown",
   "id": "c5e4e7b8",
   "metadata": {},
   "source": [
    "Note in lambda, there is no \"def\", no function name and no \"return\""
   ]
  },
  {
   "cell_type": "code",
   "execution_count": 20,
   "id": "9f19752d",
   "metadata": {},
   "outputs": [],
   "source": [
    " seq=[1,2,3,4,5]"
   ]
  },
  {
   "cell_type": "code",
   "execution_count": 23,
   "id": "756ec391",
   "metadata": {},
   "outputs": [
    {
     "data": {
      "text/plain": [
       "[2, 4, 6, 8, 10]"
      ]
     },
     "execution_count": 23,
     "metadata": {},
     "output_type": "execute_result"
    }
   ],
   "source": [
    "list(map(times2, seq)) #mapping functions to some iteratales"
   ]
  },
  {
   "cell_type": "code",
   "execution_count": 24,
   "id": "f160fef7",
   "metadata": {},
   "outputs": [
    {
     "data": {
      "text/plain": [
       "[2, 4, 6, 8, 10]"
      ]
     },
     "execution_count": 24,
     "metadata": {},
     "output_type": "execute_result"
    }
   ],
   "source": [
    "list(map(lambda var: var*2, seq))"
   ]
  },
  {
   "cell_type": "code",
   "execution_count": 25,
   "id": "8fc3844c",
   "metadata": {},
   "outputs": [],
   "source": [
    "def iseven(num):\n",
    "    return num%2==0\n"
   ]
  },
  {
   "cell_type": "code",
   "execution_count": 26,
   "id": "5d5f4c68",
   "metadata": {},
   "outputs": [
    {
     "data": {
      "text/plain": [
       "[2, 4]"
      ]
     },
     "execution_count": 26,
     "metadata": {},
     "output_type": "execute_result"
    }
   ],
   "source": [
    "list(filter(iseven, [1,2,3,4,5]))"
   ]
  },
  {
   "cell_type": "code",
   "execution_count": 28,
   "id": "85451ffc",
   "metadata": {},
   "outputs": [
    {
     "data": {
      "text/plain": [
       "[2, 4]"
      ]
     },
     "execution_count": 28,
     "metadata": {},
     "output_type": "execute_result"
    }
   ],
   "source": [
    "list(filter(lambda x: x%2==0, [1,2,3,4,5]))"
   ]
  },
  {
   "cell_type": "markdown",
   "id": "8b8612c9",
   "metadata": {},
   "source": [
    "**4. string operation**"
   ]
  },
  {
   "cell_type": "code",
   "execution_count": 2,
   "id": "ca0a1051",
   "metadata": {},
   "outputs": [
    {
     "data": {
      "text/plain": [
       "'i love lucy and 3 is my number!'"
      ]
     },
     "execution_count": 2,
     "metadata": {},
     "output_type": "execute_result"
    }
   ],
   "source": [
    "sample_string='I LovE Lucy aND 3 is MY NuMbER!'\n",
    "\n",
    "lower_string=sample_string.lower()\n",
    "lower_string"
   ]
  },
  {
   "cell_type": "code",
   "execution_count": 3,
   "id": "2e36f966",
   "metadata": {},
   "outputs": [
    {
     "data": {
      "text/plain": [
       "['i', 'love', 'lucy', 'and', '3', 'is', 'my', 'number!']"
      ]
     },
     "execution_count": 3,
     "metadata": {},
     "output_type": "execute_result"
    }
   ],
   "source": [
    "string_list=lower_string.split( )\n",
    "string_list"
   ]
  },
  {
   "cell_type": "code",
   "execution_count": 4,
   "id": "733df957",
   "metadata": {},
   "outputs": [
    {
     "data": {
      "text/plain": [
       "True"
      ]
     },
     "execution_count": 4,
     "metadata": {},
     "output_type": "execute_result"
    }
   ],
   "source": [
    "'3'.isdigit()"
   ]
  },
  {
   "cell_type": "code",
   "execution_count": null,
   "id": "da306858",
   "metadata": {},
   "outputs": [],
   "source": []
  }
 ],
 "metadata": {
  "kernelspec": {
   "display_name": "Python 3 (ipykernel)",
   "language": "python",
   "name": "python3"
  },
  "language_info": {
   "codemirror_mode": {
    "name": "ipython",
    "version": 3
   },
   "file_extension": ".py",
   "mimetype": "text/x-python",
   "name": "python",
   "nbconvert_exporter": "python",
   "pygments_lexer": "ipython3",
   "version": "3.8.13"
  }
 },
 "nbformat": 4,
 "nbformat_minor": 5
}
